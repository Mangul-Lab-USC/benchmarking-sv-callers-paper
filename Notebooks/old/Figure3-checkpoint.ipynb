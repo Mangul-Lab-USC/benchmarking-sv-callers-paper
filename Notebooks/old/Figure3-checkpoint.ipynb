{
 "cells": [
  {
   "cell_type": "code",
   "execution_count": 1,
   "metadata": {},
   "outputs": [],
   "source": [
    "import pandas as pd\n",
    "import allel\n",
    "import numpy as np\n",
    "import matplotlib.pyplot as plt\n",
    "import seaborn as sns"
   ]
  },
  {
   "cell_type": "code",
   "execution_count": 3,
   "metadata": {},
   "outputs": [],
   "source": [
    "strain=['AKR_J','A_J','C3H_HeJ','CBA_J','DBA_2J','LP_J']\n",
    "tools=['breakdancer',\n",
    "#'clever',\n",
    "'delly',\n",
    "'gasv',\n",
    "'gridss',\n",
    "#'indelminer',\n",
    "'lumpexpress',\n",
    "#'mistrvar',\n",
    "#'pindel',\n",
    "#'platypus',\n",
    "'popdel',\n",
    "'smoove',\n",
    "'sniffles']"
   ]
  },
  {
   "cell_type": "markdown",
   "metadata": {},
   "source": [
    "# Deletions"
   ]
  },
  {
   "cell_type": "code",
   "execution_count": 4,
   "metadata": {},
   "outputs": [],
   "source": [
    "import os\n",
    "from os import path\n",
    "\n",
    "cov_list=['32','8','4','2','1','0.5','0.1']\n",
    "\n",
    "#cov_list=['32','16','8','4','2','1','0.5','0.1']\n",
    "th_list=['0','10','100','1000','10000']\n",
    "n_list=['1','2','3','4','5','6','7','8','9','10']\n",
    "\n",
    "\n",
    "#n_list=['1','2']\n",
    "\n",
    "\n",
    "df= pd.DataFrame(columns=['strain','length','flag','position','threshold'])\n"
   ]
  },
  {
   "cell_type": "code",
   "execution_count": null,
   "metadata": {},
   "outputs": [
    {
     "name": "stdout",
     "output_type": "stream",
     "text": [
      "--- AKR_J ---\n"
     ]
    },
    {
     "name": "stderr",
     "output_type": "stream",
     "text": [
      "/Users/angelalu/opt/anaconda3/lib/python3.7/site-packages/allel/io/vcf_read.py:1745: UserWarning: multiple INFO headers for 'SVLEN'\n",
      "  warnings.warn('multiple INFO headers for %r' % k)\n",
      "/Users/angelalu/opt/anaconda3/lib/python3.7/site-packages/ipykernel_launcher.py:17: FutureWarning: Sorting because non-concatenation axis is not aligned. A future version\n",
      "of pandas will change to not sort by default.\n",
      "\n",
      "To accept the future behavior, pass 'sort=False'.\n",
      "\n",
      "To retain the current behavior and silence the warning, pass 'sort=True'.\n",
      "\n"
     ]
    },
    {
     "name": "stdout",
     "output_type": "stream",
     "text": [
      "../raw_data/mouse/custom_vcf_0.1x/0t/nf_0t.breakdancer.AKR_J.chr19.0.1p.4_sorted.modified.vcf\n",
      "../raw_data/mouse/custom_vcf_0.1x/0t/nf_0t.breakdancer.AKR_J.chr19.0.1p.5_sorted.modified.vcf\n",
      "../raw_data/mouse/custom_vcf_0.1x/0t/nf_0t.breakdancer.AKR_J.chr19.0.1p.7_sorted.modified.vcf\n",
      "../raw_data/mouse/custom_vcf_0.1x/0t/nf_0t.breakdancer.AKR_J.chr19.0.1p.8_sorted.modified.vcf\n",
      "../raw_data/mouse/custom_vcf_0.1x/0t/nf_0t.breakdancer.AKR_J.chr19.0.1p.10_sorted.modified.vcf\n",
      "../raw_data/mouse/custom_vcf_0.1x/10t/nf_10t.breakdancer.AKR_J.chr19.0.1p.4_sorted.modified.vcf\n",
      "../raw_data/mouse/custom_vcf_0.1x/10t/nf_10t.breakdancer.AKR_J.chr19.0.1p.5_sorted.modified.vcf\n",
      "../raw_data/mouse/custom_vcf_0.1x/10t/nf_10t.breakdancer.AKR_J.chr19.0.1p.7_sorted.modified.vcf\n",
      "../raw_data/mouse/custom_vcf_0.1x/10t/nf_10t.breakdancer.AKR_J.chr19.0.1p.8_sorted.modified.vcf\n",
      "../raw_data/mouse/custom_vcf_0.1x/10t/nf_10t.breakdancer.AKR_J.chr19.0.1p.10_sorted.modified.vcf\n",
      "../raw_data/mouse/custom_vcf_0.1x/100t/nf_100t.breakdancer.AKR_J.chr19.0.1p.4_sorted.modified.vcf\n",
      "../raw_data/mouse/custom_vcf_0.1x/100t/nf_100t.breakdancer.AKR_J.chr19.0.1p.5_sorted.modified.vcf\n",
      "../raw_data/mouse/custom_vcf_0.1x/100t/nf_100t.breakdancer.AKR_J.chr19.0.1p.7_sorted.modified.vcf\n",
      "../raw_data/mouse/custom_vcf_0.1x/100t/nf_100t.breakdancer.AKR_J.chr19.0.1p.8_sorted.modified.vcf\n",
      "../raw_data/mouse/custom_vcf_0.1x/100t/nf_100t.breakdancer.AKR_J.chr19.0.1p.10_sorted.modified.vcf\n",
      "../raw_data/mouse/custom_vcf_0.1x/1000t/nf_1000t.breakdancer.AKR_J.chr19.0.1p.4_sorted.modified.vcf\n",
      "../raw_data/mouse/custom_vcf_0.1x/1000t/nf_1000t.breakdancer.AKR_J.chr19.0.1p.5_sorted.modified.vcf\n",
      "../raw_data/mouse/custom_vcf_0.1x/1000t/nf_1000t.breakdancer.AKR_J.chr19.0.1p.7_sorted.modified.vcf\n",
      "../raw_data/mouse/custom_vcf_0.1x/1000t/nf_1000t.breakdancer.AKR_J.chr19.0.1p.8_sorted.modified.vcf\n",
      "../raw_data/mouse/custom_vcf_0.1x/1000t/nf_1000t.breakdancer.AKR_J.chr19.0.1p.10_sorted.modified.vcf\n",
      "../raw_data/mouse/custom_vcf_0.1x/10000t/nf_10000t.breakdancer.AKR_J.chr19.0.1p.4_sorted.modified.vcf\n",
      "../raw_data/mouse/custom_vcf_0.1x/10000t/nf_10000t.breakdancer.AKR_J.chr19.0.1p.5_sorted.modified.vcf\n",
      "../raw_data/mouse/custom_vcf_0.1x/10000t/nf_10000t.breakdancer.AKR_J.chr19.0.1p.7_sorted.modified.vcf\n",
      "../raw_data/mouse/custom_vcf_0.1x/10000t/nf_10000t.breakdancer.AKR_J.chr19.0.1p.8_sorted.modified.vcf\n",
      "../raw_data/mouse/custom_vcf_0.1x/10000t/nf_10000t.breakdancer.AKR_J.chr19.0.1p.10_sorted.modified.vcf\n",
      "../raw_data/mouse/custom_vcf_0.1x/0t/nf_0t.delly.AKR_J.chr19.0.1p.2_sorted.modified.vcf\n",
      "../raw_data/mouse/custom_vcf_0.1x/0t/nf_0t.delly.AKR_J.chr19.0.1p.6_sorted.modified.vcf\n",
      "../raw_data/mouse/custom_vcf_0.1x/0t/nf_0t.delly.AKR_J.chr19.0.1p.8_sorted.modified.vcf\n",
      "../raw_data/mouse/custom_vcf_0.1x/0t/nf_0t.delly.AKR_J.chr19.0.1p.9_sorted.modified.vcf\n",
      "../raw_data/mouse/custom_vcf_0.1x/10t/nf_10t.delly.AKR_J.chr19.0.1p.2_sorted.modified.vcf\n",
      "../raw_data/mouse/custom_vcf_0.1x/10t/nf_10t.delly.AKR_J.chr19.0.1p.6_sorted.modified.vcf\n",
      "../raw_data/mouse/custom_vcf_0.1x/10t/nf_10t.delly.AKR_J.chr19.0.1p.8_sorted.modified.vcf\n",
      "../raw_data/mouse/custom_vcf_0.1x/10t/nf_10t.delly.AKR_J.chr19.0.1p.9_sorted.modified.vcf\n",
      "../raw_data/mouse/custom_vcf_0.1x/100t/nf_100t.delly.AKR_J.chr19.0.1p.2_sorted.modified.vcf\n",
      "../raw_data/mouse/custom_vcf_0.1x/100t/nf_100t.delly.AKR_J.chr19.0.1p.6_sorted.modified.vcf\n",
      "../raw_data/mouse/custom_vcf_0.1x/100t/nf_100t.delly.AKR_J.chr19.0.1p.8_sorted.modified.vcf\n",
      "../raw_data/mouse/custom_vcf_0.1x/100t/nf_100t.delly.AKR_J.chr19.0.1p.9_sorted.modified.vcf\n",
      "../raw_data/mouse/custom_vcf_0.1x/1000t/nf_1000t.delly.AKR_J.chr19.0.1p.2_sorted.modified.vcf\n",
      "../raw_data/mouse/custom_vcf_0.1x/1000t/nf_1000t.delly.AKR_J.chr19.0.1p.6_sorted.modified.vcf\n",
      "../raw_data/mouse/custom_vcf_0.1x/1000t/nf_1000t.delly.AKR_J.chr19.0.1p.8_sorted.modified.vcf\n",
      "../raw_data/mouse/custom_vcf_0.1x/1000t/nf_1000t.delly.AKR_J.chr19.0.1p.9_sorted.modified.vcf\n",
      "../raw_data/mouse/custom_vcf_0.1x/10000t/nf_10000t.delly.AKR_J.chr19.0.1p.2_sorted.modified.vcf\n",
      "../raw_data/mouse/custom_vcf_0.1x/10000t/nf_10000t.delly.AKR_J.chr19.0.1p.6_sorted.modified.vcf\n",
      "../raw_data/mouse/custom_vcf_0.1x/10000t/nf_10000t.delly.AKR_J.chr19.0.1p.8_sorted.modified.vcf\n",
      "../raw_data/mouse/custom_vcf_0.1x/10000t/nf_10000t.delly.AKR_J.chr19.0.1p.9_sorted.modified.vcf\n",
      "../raw_data/mouse/custom_vcf_2x/1000t/nf_1000t.gridss.AKR_J.chr19.2p.1_sorted.modified.vcf\n",
      "../raw_data/mouse/custom_vcf_2x/1000t/nf_1000t.gridss.AKR_J.chr19.2p.2_sorted.modified.vcf\n",
      "../raw_data/mouse/custom_vcf_2x/1000t/nf_1000t.gridss.AKR_J.chr19.2p.3_sorted.modified.vcf\n",
      "../raw_data/mouse/custom_vcf_2x/1000t/nf_1000t.gridss.AKR_J.chr19.2p.4_sorted.modified.vcf\n",
      "../raw_data/mouse/custom_vcf_2x/1000t/nf_1000t.gridss.AKR_J.chr19.2p.5_sorted.modified.vcf\n",
      "../raw_data/mouse/custom_vcf_2x/1000t/nf_1000t.gridss.AKR_J.chr19.2p.6_sorted.modified.vcf\n",
      "../raw_data/mouse/custom_vcf_2x/1000t/nf_1000t.gridss.AKR_J.chr19.2p.7_sorted.modified.vcf\n",
      "../raw_data/mouse/custom_vcf_2x/1000t/nf_1000t.gridss.AKR_J.chr19.2p.8_sorted.modified.vcf\n",
      "../raw_data/mouse/custom_vcf_2x/1000t/nf_1000t.gridss.AKR_J.chr19.2p.9_sorted.modified.vcf\n",
      "../raw_data/mouse/custom_vcf_2x/1000t/nf_1000t.gridss.AKR_J.chr19.2p.10_sorted.modified.vcf\n",
      "../raw_data/mouse/custom_vcf_1x/1000t/nf_1000t.gridss.AKR_J.chr19.1p.1_sorted.modified.vcf\n",
      "../raw_data/mouse/custom_vcf_1x/1000t/nf_1000t.gridss.AKR_J.chr19.1p.2_sorted.modified.vcf\n",
      "../raw_data/mouse/custom_vcf_1x/1000t/nf_1000t.gridss.AKR_J.chr19.1p.3_sorted.modified.vcf\n",
      "../raw_data/mouse/custom_vcf_1x/1000t/nf_1000t.gridss.AKR_J.chr19.1p.4_sorted.modified.vcf\n",
      "../raw_data/mouse/custom_vcf_1x/1000t/nf_1000t.gridss.AKR_J.chr19.1p.5_sorted.modified.vcf\n",
      "../raw_data/mouse/custom_vcf_1x/1000t/nf_1000t.gridss.AKR_J.chr19.1p.6_sorted.modified.vcf\n",
      "../raw_data/mouse/custom_vcf_1x/1000t/nf_1000t.gridss.AKR_J.chr19.1p.7_sorted.modified.vcf\n",
      "../raw_data/mouse/custom_vcf_1x/1000t/nf_1000t.gridss.AKR_J.chr19.1p.8_sorted.modified.vcf\n",
      "../raw_data/mouse/custom_vcf_1x/1000t/nf_1000t.gridss.AKR_J.chr19.1p.9_sorted.modified.vcf\n",
      "../raw_data/mouse/custom_vcf_1x/1000t/nf_1000t.gridss.AKR_J.chr19.1p.10_sorted.modified.vcf\n",
      "../raw_data/mouse/custom_vcf_0.5x/1000t/nf_1000t.gridss.AKR_J.chr19.0.5p.1_sorted.modified.vcf\n",
      "../raw_data/mouse/custom_vcf_0.5x/1000t/nf_1000t.gridss.AKR_J.chr19.0.5p.2_sorted.modified.vcf\n",
      "../raw_data/mouse/custom_vcf_0.5x/1000t/nf_1000t.gridss.AKR_J.chr19.0.5p.3_sorted.modified.vcf\n",
      "../raw_data/mouse/custom_vcf_0.5x/1000t/nf_1000t.gridss.AKR_J.chr19.0.5p.4_sorted.modified.vcf\n",
      "../raw_data/mouse/custom_vcf_0.5x/1000t/nf_1000t.gridss.AKR_J.chr19.0.5p.5_sorted.modified.vcf\n",
      "../raw_data/mouse/custom_vcf_0.5x/1000t/nf_1000t.gridss.AKR_J.chr19.0.5p.6_sorted.modified.vcf\n",
      "../raw_data/mouse/custom_vcf_0.5x/1000t/nf_1000t.gridss.AKR_J.chr19.0.5p.7_sorted.modified.vcf\n",
      "../raw_data/mouse/custom_vcf_0.5x/1000t/nf_1000t.gridss.AKR_J.chr19.0.5p.8_sorted.modified.vcf\n",
      "../raw_data/mouse/custom_vcf_0.5x/1000t/nf_1000t.gridss.AKR_J.chr19.0.5p.9_sorted.modified.vcf\n",
      "../raw_data/mouse/custom_vcf_0.5x/1000t/nf_1000t.gridss.AKR_J.chr19.0.5p.10_sorted.modified.vcf\n",
      "../raw_data/mouse/custom_vcf_0.1x/1000t/nf_1000t.gridss.AKR_J.chr19.0.1p.1_sorted.modified.vcf\n",
      "../raw_data/mouse/custom_vcf_0.1x/1000t/nf_1000t.gridss.AKR_J.chr19.0.1p.2_sorted.modified.vcf\n",
      "../raw_data/mouse/custom_vcf_0.1x/1000t/nf_1000t.gridss.AKR_J.chr19.0.1p.3_sorted.modified.vcf\n",
      "../raw_data/mouse/custom_vcf_0.1x/1000t/nf_1000t.gridss.AKR_J.chr19.0.1p.4_sorted.modified.vcf\n",
      "../raw_data/mouse/custom_vcf_0.1x/1000t/nf_1000t.gridss.AKR_J.chr19.0.1p.5_sorted.modified.vcf\n",
      "../raw_data/mouse/custom_vcf_0.1x/1000t/nf_1000t.gridss.AKR_J.chr19.0.1p.6_sorted.modified.vcf\n",
      "../raw_data/mouse/custom_vcf_0.1x/1000t/nf_1000t.gridss.AKR_J.chr19.0.1p.7_sorted.modified.vcf\n",
      "../raw_data/mouse/custom_vcf_0.1x/1000t/nf_1000t.gridss.AKR_J.chr19.0.1p.8_sorted.modified.vcf\n",
      "../raw_data/mouse/custom_vcf_0.1x/1000t/nf_1000t.gridss.AKR_J.chr19.0.1p.9_sorted.modified.vcf\n",
      "../raw_data/mouse/custom_vcf_0.1x/1000t/nf_1000t.gridss.AKR_J.chr19.0.1p.10_sorted.modified.vcf\n",
      "../raw_data/mouse/custom_vcf_0.5x/0t/nf_0t.smoove.AKR_J.chr19.0.5p.1_sorted.modified.vcf\n",
      "../raw_data/mouse/custom_vcf_0.5x/0t/nf_0t.smoove.AKR_J.chr19.0.5p.2_sorted.modified.vcf\n",
      "../raw_data/mouse/custom_vcf_0.5x/0t/nf_0t.smoove.AKR_J.chr19.0.5p.3_sorted.modified.vcf\n",
      "../raw_data/mouse/custom_vcf_0.5x/0t/nf_0t.smoove.AKR_J.chr19.0.5p.4_sorted.modified.vcf\n",
      "../raw_data/mouse/custom_vcf_0.5x/0t/nf_0t.smoove.AKR_J.chr19.0.5p.5_sorted.modified.vcf\n",
      "../raw_data/mouse/custom_vcf_0.5x/0t/nf_0t.smoove.AKR_J.chr19.0.5p.6_sorted.modified.vcf\n"
     ]
    },
    {
     "name": "stdout",
     "output_type": "stream",
     "text": [
      "../raw_data/mouse/custom_vcf_0.5x/0t/nf_0t.smoove.AKR_J.chr19.0.5p.8_sorted.modified.vcf\n",
      "../raw_data/mouse/custom_vcf_0.5x/0t/nf_0t.smoove.AKR_J.chr19.0.5p.10_sorted.modified.vcf\n",
      "../raw_data/mouse/custom_vcf_0.1x/0t/nf_0t.smoove.AKR_J.chr19.0.1p.1_sorted.modified.vcf\n",
      "../raw_data/mouse/custom_vcf_0.1x/0t/nf_0t.smoove.AKR_J.chr19.0.1p.2_sorted.modified.vcf\n",
      "../raw_data/mouse/custom_vcf_0.1x/0t/nf_0t.smoove.AKR_J.chr19.0.1p.3_sorted.modified.vcf\n",
      "../raw_data/mouse/custom_vcf_0.1x/0t/nf_0t.smoove.AKR_J.chr19.0.1p.4_sorted.modified.vcf\n",
      "../raw_data/mouse/custom_vcf_0.1x/0t/nf_0t.smoove.AKR_J.chr19.0.1p.5_sorted.modified.vcf\n",
      "../raw_data/mouse/custom_vcf_0.1x/0t/nf_0t.smoove.AKR_J.chr19.0.1p.6_sorted.modified.vcf\n",
      "../raw_data/mouse/custom_vcf_0.1x/0t/nf_0t.smoove.AKR_J.chr19.0.1p.7_sorted.modified.vcf\n",
      "../raw_data/mouse/custom_vcf_0.1x/0t/nf_0t.smoove.AKR_J.chr19.0.1p.8_sorted.modified.vcf\n",
      "../raw_data/mouse/custom_vcf_0.1x/0t/nf_0t.smoove.AKR_J.chr19.0.1p.9_sorted.modified.vcf\n",
      "../raw_data/mouse/custom_vcf_0.1x/0t/nf_0t.smoove.AKR_J.chr19.0.1p.10_sorted.modified.vcf\n",
      "../raw_data/mouse/custom_vcf_0.5x/10t/nf_10t.smoove.AKR_J.chr19.0.5p.1_sorted.modified.vcf\n",
      "../raw_data/mouse/custom_vcf_0.5x/10t/nf_10t.smoove.AKR_J.chr19.0.5p.2_sorted.modified.vcf\n",
      "../raw_data/mouse/custom_vcf_0.5x/10t/nf_10t.smoove.AKR_J.chr19.0.5p.3_sorted.modified.vcf\n",
      "../raw_data/mouse/custom_vcf_0.5x/10t/nf_10t.smoove.AKR_J.chr19.0.5p.4_sorted.modified.vcf\n",
      "../raw_data/mouse/custom_vcf_0.5x/10t/nf_10t.smoove.AKR_J.chr19.0.5p.5_sorted.modified.vcf\n",
      "../raw_data/mouse/custom_vcf_0.5x/10t/nf_10t.smoove.AKR_J.chr19.0.5p.6_sorted.modified.vcf\n",
      "../raw_data/mouse/custom_vcf_0.5x/10t/nf_10t.smoove.AKR_J.chr19.0.5p.8_sorted.modified.vcf\n",
      "../raw_data/mouse/custom_vcf_0.5x/10t/nf_10t.smoove.AKR_J.chr19.0.5p.10_sorted.modified.vcf\n",
      "../raw_data/mouse/custom_vcf_0.1x/10t/nf_10t.smoove.AKR_J.chr19.0.1p.1_sorted.modified.vcf\n",
      "../raw_data/mouse/custom_vcf_0.1x/10t/nf_10t.smoove.AKR_J.chr19.0.1p.2_sorted.modified.vcf\n",
      "../raw_data/mouse/custom_vcf_0.1x/10t/nf_10t.smoove.AKR_J.chr19.0.1p.3_sorted.modified.vcf\n",
      "../raw_data/mouse/custom_vcf_0.1x/10t/nf_10t.smoove.AKR_J.chr19.0.1p.4_sorted.modified.vcf\n",
      "../raw_data/mouse/custom_vcf_0.1x/10t/nf_10t.smoove.AKR_J.chr19.0.1p.5_sorted.modified.vcf\n",
      "../raw_data/mouse/custom_vcf_0.1x/10t/nf_10t.smoove.AKR_J.chr19.0.1p.6_sorted.modified.vcf\n",
      "../raw_data/mouse/custom_vcf_0.1x/10t/nf_10t.smoove.AKR_J.chr19.0.1p.7_sorted.modified.vcf\n",
      "../raw_data/mouse/custom_vcf_0.1x/10t/nf_10t.smoove.AKR_J.chr19.0.1p.8_sorted.modified.vcf\n",
      "../raw_data/mouse/custom_vcf_0.1x/10t/nf_10t.smoove.AKR_J.chr19.0.1p.9_sorted.modified.vcf\n",
      "../raw_data/mouse/custom_vcf_0.1x/10t/nf_10t.smoove.AKR_J.chr19.0.1p.10_sorted.modified.vcf\n",
      "../raw_data/mouse/custom_vcf_0.5x/100t/nf_100t.smoove.AKR_J.chr19.0.5p.1_sorted.modified.vcf\n",
      "../raw_data/mouse/custom_vcf_0.5x/100t/nf_100t.smoove.AKR_J.chr19.0.5p.2_sorted.modified.vcf\n",
      "../raw_data/mouse/custom_vcf_0.5x/100t/nf_100t.smoove.AKR_J.chr19.0.5p.3_sorted.modified.vcf\n",
      "../raw_data/mouse/custom_vcf_0.5x/100t/nf_100t.smoove.AKR_J.chr19.0.5p.4_sorted.modified.vcf\n",
      "../raw_data/mouse/custom_vcf_0.5x/100t/nf_100t.smoove.AKR_J.chr19.0.5p.5_sorted.modified.vcf\n",
      "../raw_data/mouse/custom_vcf_0.5x/100t/nf_100t.smoove.AKR_J.chr19.0.5p.6_sorted.modified.vcf\n",
      "../raw_data/mouse/custom_vcf_0.5x/100t/nf_100t.smoove.AKR_J.chr19.0.5p.8_sorted.modified.vcf\n",
      "../raw_data/mouse/custom_vcf_0.5x/100t/nf_100t.smoove.AKR_J.chr19.0.5p.10_sorted.modified.vcf\n",
      "../raw_data/mouse/custom_vcf_0.1x/100t/nf_100t.smoove.AKR_J.chr19.0.1p.1_sorted.modified.vcf\n",
      "../raw_data/mouse/custom_vcf_0.1x/100t/nf_100t.smoove.AKR_J.chr19.0.1p.2_sorted.modified.vcf\n",
      "../raw_data/mouse/custom_vcf_0.1x/100t/nf_100t.smoove.AKR_J.chr19.0.1p.3_sorted.modified.vcf\n",
      "../raw_data/mouse/custom_vcf_0.1x/100t/nf_100t.smoove.AKR_J.chr19.0.1p.4_sorted.modified.vcf\n",
      "../raw_data/mouse/custom_vcf_0.1x/100t/nf_100t.smoove.AKR_J.chr19.0.1p.5_sorted.modified.vcf\n",
      "../raw_data/mouse/custom_vcf_0.1x/100t/nf_100t.smoove.AKR_J.chr19.0.1p.6_sorted.modified.vcf\n",
      "../raw_data/mouse/custom_vcf_0.1x/100t/nf_100t.smoove.AKR_J.chr19.0.1p.7_sorted.modified.vcf\n",
      "../raw_data/mouse/custom_vcf_0.1x/100t/nf_100t.smoove.AKR_J.chr19.0.1p.8_sorted.modified.vcf\n",
      "../raw_data/mouse/custom_vcf_0.1x/100t/nf_100t.smoove.AKR_J.chr19.0.1p.9_sorted.modified.vcf\n",
      "../raw_data/mouse/custom_vcf_0.1x/100t/nf_100t.smoove.AKR_J.chr19.0.1p.10_sorted.modified.vcf\n",
      "../raw_data/mouse/custom_vcf_0.5x/1000t/nf_1000t.smoove.AKR_J.chr19.0.5p.1_sorted.modified.vcf\n",
      "../raw_data/mouse/custom_vcf_0.5x/1000t/nf_1000t.smoove.AKR_J.chr19.0.5p.2_sorted.modified.vcf\n",
      "../raw_data/mouse/custom_vcf_0.5x/1000t/nf_1000t.smoove.AKR_J.chr19.0.5p.3_sorted.modified.vcf\n",
      "../raw_data/mouse/custom_vcf_0.5x/1000t/nf_1000t.smoove.AKR_J.chr19.0.5p.4_sorted.modified.vcf\n",
      "../raw_data/mouse/custom_vcf_0.5x/1000t/nf_1000t.smoove.AKR_J.chr19.0.5p.5_sorted.modified.vcf\n",
      "../raw_data/mouse/custom_vcf_0.5x/1000t/nf_1000t.smoove.AKR_J.chr19.0.5p.6_sorted.modified.vcf\n",
      "../raw_data/mouse/custom_vcf_0.5x/1000t/nf_1000t.smoove.AKR_J.chr19.0.5p.8_sorted.modified.vcf\n",
      "../raw_data/mouse/custom_vcf_0.5x/1000t/nf_1000t.smoove.AKR_J.chr19.0.5p.10_sorted.modified.vcf\n",
      "../raw_data/mouse/custom_vcf_0.1x/1000t/nf_1000t.smoove.AKR_J.chr19.0.1p.1_sorted.modified.vcf\n",
      "../raw_data/mouse/custom_vcf_0.1x/1000t/nf_1000t.smoove.AKR_J.chr19.0.1p.2_sorted.modified.vcf\n",
      "../raw_data/mouse/custom_vcf_0.1x/1000t/nf_1000t.smoove.AKR_J.chr19.0.1p.3_sorted.modified.vcf\n",
      "../raw_data/mouse/custom_vcf_0.1x/1000t/nf_1000t.smoove.AKR_J.chr19.0.1p.4_sorted.modified.vcf\n",
      "../raw_data/mouse/custom_vcf_0.1x/1000t/nf_1000t.smoove.AKR_J.chr19.0.1p.5_sorted.modified.vcf\n",
      "../raw_data/mouse/custom_vcf_0.1x/1000t/nf_1000t.smoove.AKR_J.chr19.0.1p.6_sorted.modified.vcf\n",
      "../raw_data/mouse/custom_vcf_0.1x/1000t/nf_1000t.smoove.AKR_J.chr19.0.1p.7_sorted.modified.vcf\n",
      "../raw_data/mouse/custom_vcf_0.1x/1000t/nf_1000t.smoove.AKR_J.chr19.0.1p.8_sorted.modified.vcf\n",
      "../raw_data/mouse/custom_vcf_0.1x/1000t/nf_1000t.smoove.AKR_J.chr19.0.1p.9_sorted.modified.vcf\n",
      "../raw_data/mouse/custom_vcf_0.1x/1000t/nf_1000t.smoove.AKR_J.chr19.0.1p.10_sorted.modified.vcf\n",
      "../raw_data/mouse/custom_vcf_0.5x/10000t/nf_10000t.smoove.AKR_J.chr19.0.5p.1_sorted.modified.vcf\n",
      "../raw_data/mouse/custom_vcf_0.5x/10000t/nf_10000t.smoove.AKR_J.chr19.0.5p.2_sorted.modified.vcf\n",
      "../raw_data/mouse/custom_vcf_0.5x/10000t/nf_10000t.smoove.AKR_J.chr19.0.5p.3_sorted.modified.vcf\n",
      "../raw_data/mouse/custom_vcf_0.5x/10000t/nf_10000t.smoove.AKR_J.chr19.0.5p.4_sorted.modified.vcf\n",
      "../raw_data/mouse/custom_vcf_0.5x/10000t/nf_10000t.smoove.AKR_J.chr19.0.5p.5_sorted.modified.vcf\n",
      "../raw_data/mouse/custom_vcf_0.5x/10000t/nf_10000t.smoove.AKR_J.chr19.0.5p.6_sorted.modified.vcf\n",
      "../raw_data/mouse/custom_vcf_0.5x/10000t/nf_10000t.smoove.AKR_J.chr19.0.5p.8_sorted.modified.vcf\n",
      "../raw_data/mouse/custom_vcf_0.5x/10000t/nf_10000t.smoove.AKR_J.chr19.0.5p.10_sorted.modified.vcf\n",
      "../raw_data/mouse/custom_vcf_0.1x/10000t/nf_10000t.smoove.AKR_J.chr19.0.1p.1_sorted.modified.vcf\n",
      "../raw_data/mouse/custom_vcf_0.1x/10000t/nf_10000t.smoove.AKR_J.chr19.0.1p.2_sorted.modified.vcf\n",
      "../raw_data/mouse/custom_vcf_0.1x/10000t/nf_10000t.smoove.AKR_J.chr19.0.1p.3_sorted.modified.vcf\n",
      "../raw_data/mouse/custom_vcf_0.1x/10000t/nf_10000t.smoove.AKR_J.chr19.0.1p.4_sorted.modified.vcf\n",
      "../raw_data/mouse/custom_vcf_0.1x/10000t/nf_10000t.smoove.AKR_J.chr19.0.1p.5_sorted.modified.vcf\n",
      "../raw_data/mouse/custom_vcf_0.1x/10000t/nf_10000t.smoove.AKR_J.chr19.0.1p.6_sorted.modified.vcf\n",
      "../raw_data/mouse/custom_vcf_0.1x/10000t/nf_10000t.smoove.AKR_J.chr19.0.1p.7_sorted.modified.vcf\n",
      "../raw_data/mouse/custom_vcf_0.1x/10000t/nf_10000t.smoove.AKR_J.chr19.0.1p.8_sorted.modified.vcf\n",
      "../raw_data/mouse/custom_vcf_0.1x/10000t/nf_10000t.smoove.AKR_J.chr19.0.1p.9_sorted.modified.vcf\n",
      "../raw_data/mouse/custom_vcf_0.1x/10000t/nf_10000t.smoove.AKR_J.chr19.0.1p.10_sorted.modified.vcf\n",
      "--- A_J ---\n",
      "../raw_data/mouse/custom_vcf_0.1x/0t/nf_0t.breakdancer.A_J.chr19.0.1p.1_sorted.modified.vcf\n",
      "../raw_data/mouse/custom_vcf_0.1x/0t/nf_0t.breakdancer.A_J.chr19.0.1p.3_sorted.modified.vcf\n",
      "../raw_data/mouse/custom_vcf_0.1x/0t/nf_0t.breakdancer.A_J.chr19.0.1p.4_sorted.modified.vcf\n",
      "../raw_data/mouse/custom_vcf_0.1x/0t/nf_0t.breakdancer.A_J.chr19.0.1p.6_sorted.modified.vcf\n",
      "../raw_data/mouse/custom_vcf_0.1x/0t/nf_0t.breakdancer.A_J.chr19.0.1p.8_sorted.modified.vcf\n",
      "../raw_data/mouse/custom_vcf_0.1x/0t/nf_0t.breakdancer.A_J.chr19.0.1p.9_sorted.modified.vcf\n",
      "../raw_data/mouse/custom_vcf_0.1x/0t/nf_0t.breakdancer.A_J.chr19.0.1p.10_sorted.modified.vcf\n"
     ]
    },
    {
     "name": "stdout",
     "output_type": "stream",
     "text": [
      "../raw_data/mouse/custom_vcf_0.1x/10t/nf_10t.breakdancer.A_J.chr19.0.1p.1_sorted.modified.vcf\n",
      "../raw_data/mouse/custom_vcf_0.1x/10t/nf_10t.breakdancer.A_J.chr19.0.1p.3_sorted.modified.vcf\n",
      "../raw_data/mouse/custom_vcf_0.1x/10t/nf_10t.breakdancer.A_J.chr19.0.1p.4_sorted.modified.vcf\n",
      "../raw_data/mouse/custom_vcf_0.1x/10t/nf_10t.breakdancer.A_J.chr19.0.1p.6_sorted.modified.vcf\n",
      "../raw_data/mouse/custom_vcf_0.1x/10t/nf_10t.breakdancer.A_J.chr19.0.1p.8_sorted.modified.vcf\n",
      "../raw_data/mouse/custom_vcf_0.1x/10t/nf_10t.breakdancer.A_J.chr19.0.1p.9_sorted.modified.vcf\n",
      "../raw_data/mouse/custom_vcf_0.1x/10t/nf_10t.breakdancer.A_J.chr19.0.1p.10_sorted.modified.vcf\n",
      "../raw_data/mouse/custom_vcf_0.1x/100t/nf_100t.breakdancer.A_J.chr19.0.1p.1_sorted.modified.vcf\n",
      "../raw_data/mouse/custom_vcf_0.1x/100t/nf_100t.breakdancer.A_J.chr19.0.1p.3_sorted.modified.vcf\n",
      "../raw_data/mouse/custom_vcf_0.1x/100t/nf_100t.breakdancer.A_J.chr19.0.1p.4_sorted.modified.vcf\n",
      "../raw_data/mouse/custom_vcf_0.1x/100t/nf_100t.breakdancer.A_J.chr19.0.1p.6_sorted.modified.vcf\n",
      "../raw_data/mouse/custom_vcf_0.1x/100t/nf_100t.breakdancer.A_J.chr19.0.1p.8_sorted.modified.vcf\n",
      "../raw_data/mouse/custom_vcf_0.1x/100t/nf_100t.breakdancer.A_J.chr19.0.1p.9_sorted.modified.vcf\n",
      "../raw_data/mouse/custom_vcf_0.1x/100t/nf_100t.breakdancer.A_J.chr19.0.1p.10_sorted.modified.vcf\n"
     ]
    }
   ],
   "source": [
    "for s in strain:\n",
    "    print (\"---\",s,\"---\")\n",
    "    for t in tools:\n",
    "        for th in th_list: \n",
    "            for cov in cov_list:\n",
    "                for n in n_list:\n",
    "            \n",
    "            \n",
    "                    file='../raw_data/mouse/custom_vcf_'+cov+'x/'+str(th)+'t/nf_'+str(th)+'t.'+t+'.'+s+'.chr19.'+cov+'p.'+n+'_sorted.modified.vcf'\n",
    "            \n",
    "                    if path.exists(file):\n",
    "                        callset = allel.read_vcf(file,fields='*')\n",
    "                        if callset!=None:\n",
    "                            df_current = pd.DataFrame({'tool': t, 'strain': s, 'length': callset['variants/SVLEN'],'flag': callset['variants/FLAG'],'position': callset['variants/POS'],'threshold': th})\n",
    "                            df_current['cov']=cov\n",
    "                            df_current['n']=n\n",
    "                            df = pd.concat([df_current, df],ignore_index=True)   \n",
    "                    else:\n",
    "                        print (file)\n"
   ]
  },
  {
   "cell_type": "code",
   "execution_count": null,
   "metadata": {},
   "outputs": [],
   "source": [
    "df.tail()"
   ]
  },
  {
   "cell_type": "markdown",
   "metadata": {},
   "source": [
    "# Non-deletions"
   ]
  },
  {
   "cell_type": "code",
   "execution_count": null,
   "metadata": {},
   "outputs": [],
   "source": [
    "import os\n",
    "from os import path\n",
    "\n",
    "cov_list=['32','8','4','2','1','0.5','0.1']\n",
    "\n",
    "#cov_list=['32','16','8','4','2','1','0.5','0.1']\n",
    "th_list=['0','10','100','1000','10000']\n",
    "#n_list=['1','2','3','4','5','6','7','8','9','10']\n",
    "\n",
    "\n",
    "n_list=['1','2']\n",
    "\n",
    "\n",
    "df_nondel= pd.DataFrame(columns=['strain','length','flag','position','threshold'])\n"
   ]
  },
  {
   "cell_type": "code",
   "execution_count": null,
   "metadata": {
    "scrolled": true
   },
   "outputs": [],
   "source": [
    "for s in strain:\n",
    "    print (\"---\",s,\"---\")\n",
    "    for t in tools:\n",
    "        for th in th_list: \n",
    "            for cov in cov_list:\n",
    "                for n in n_list:\n",
    "            \n",
    "            \n",
    "                    file='../raw_data/mouse/custom_vcf_'+cov+'x/'+str(th)+'t/nf_'+str(th)+'t.'+t+'.'+s+'.chr19.'+cov+'p.'+n+'_sorted.modified.nondel.vcf'\n",
    "            \n",
    "                    if path.exists(file):\n",
    "                        callset = allel.read_vcf(file,fields='*')\n",
    "                        if callset!=None:\n",
    "                            df_current = pd.DataFrame({'tool': t, 'strain': s, 'length': callset['variants/SVLEN'],'flag': callset['variants/FLAG'],'position': callset['variants/POS'],'threshold': th})\n",
    "                            df_current['cov']=cov\n",
    "                            df_current['n']=n\n",
    "                            df_nondel = pd.concat([df_current, df_nondel],ignore_index=True)   \n",
    "                    else:\n",
    "                        print (file)\n"
   ]
  },
  {
   "cell_type": "code",
   "execution_count": null,
   "metadata": {},
   "outputs": [],
   "source": [
    "df_nondel.tail()"
   ]
  },
  {
   "cell_type": "markdown",
   "metadata": {},
   "source": [
    "# Group Data"
   ]
  },
  {
   "cell_type": "code",
   "execution_count": null,
   "metadata": {},
   "outputs": [],
   "source": [
    "group_data_TP=df[df['flag'] == 'TP'].groupby(['tool','threshold','strain','n','cov'],as_index=False)['flag'].count()\n",
    "group_data_TP=group_data_TP.rename(columns={\"flag\": \"nTP\"})\n",
    "\n",
    "\n",
    "group_data_TP[pd.isnull(group_data_TP).any(axis=1)]"
   ]
  },
  {
   "cell_type": "code",
   "execution_count": null,
   "metadata": {},
   "outputs": [],
   "source": [
    "group_data_FP=df[df['flag'] == 'FP'].groupby(['tool','threshold','strain','n','cov'],as_index=False)['flag'].count()\n",
    "group_data_FP=group_data_FP.rename(columns={\"flag\": \"nFP\"})\n",
    "group_data_FP.tail()\n",
    "\n",
    "\n",
    "group_data_FP[pd.isnull(group_data_FP).any(axis=1)]"
   ]
  },
  {
   "cell_type": "code",
   "execution_count": null,
   "metadata": {},
   "outputs": [],
   "source": [
    "group_data_TN=df_nondel[df_nondel['flag'] == 'TN'].groupby(['tool','threshold','strain','n','cov'],as_index=False)['flag'].count()\n",
    "group_data_TN=group_data_TN.rename(columns={\"flag\": \"nTN\"})\n",
    "\n",
    "\n",
    "group_data_TN[pd.isnull(group_data_TN).any(axis=1)]\n"
   ]
  },
  {
   "cell_type": "code",
   "execution_count": null,
   "metadata": {},
   "outputs": [],
   "source": [
    "#fill missing combinations with 0s\n",
    "for s in strain:\n",
    "    for t in tools:\n",
    "        for th in th_list:\n",
    "            for cov in cov_list:\n",
    "                for n in n_list:\n",
    "                    if not (((group_data_TP['cov'] == cov) & (group_data_TP['n'] == n) & (group_data_TP['tool'] == t) & (group_data_TP['strain'] == s) & (group_data_TP['threshold'] == th)).any()):\n",
    "                        group_data_TP = group_data_TP.append({'cov' : cov , 'n' : n , 'tool' : t , 'strain' : s,'threshold' : th,'nTP' : 0.0} , ignore_index=True)\n",
    "group_data_TP[pd.isnull(group_data_TP).any(axis=1)]\n",
    "\n"
   ]
  },
  {
   "cell_type": "code",
   "execution_count": null,
   "metadata": {},
   "outputs": [],
   "source": [
    "for s in strain:\n",
    "    for t in tools:\n",
    "        for th in th_list:\n",
    "            for cov in cov_list:\n",
    "                for n in n_list:\n",
    "                    if not (((group_data_FP['cov'] == cov) & (group_data_FP['n'] == n) & (group_data_FP['tool'] == t) & (group_data_FP['strain'] == s) & (group_data_FP['threshold'] == th)).any()):\n",
    "                        group_data_FP = group_data_FP.append({'cov' : cov , 'n' : n , 'tool' : t , 'strain' : s,'threshold' : th,'nFP' : 0.0} , ignore_index=True)\n",
    "group_data_FP[pd.isnull(group_data_FP).any(axis=1)]"
   ]
  },
  {
   "cell_type": "code",
   "execution_count": null,
   "metadata": {},
   "outputs": [],
   "source": [
    "for s in strain:\n",
    "    for t in tools:\n",
    "        for th in th_list:\n",
    "            for cov in cov_list:\n",
    "                for n in n_list:\n",
    "                    if not (((group_data_TN['cov'] == cov) & (group_data_TN['n'] == n) & (group_data_TN['tool'] == t) & (group_data_TN['strain'] == s) & (group_data_TN['threshold'] == th)).any()):\n",
    "                        group_data_TN = group_data_TN.append({'cov' : cov , 'n' : n , 'tool' : t , 'strain' : s,'threshold' : th,'nTN' : 0.0} , ignore_index=True)\n",
    "group_data_TN[pd.isnull(group_data_TN).any(axis=1)]"
   ]
  },
  {
   "cell_type": "code",
   "execution_count": null,
   "metadata": {},
   "outputs": [],
   "source": [
    "group_data_TN.head()"
   ]
  },
  {
   "cell_type": "code",
   "execution_count": null,
   "metadata": {},
   "outputs": [],
   "source": [
    "#TP and FP are now the same size, merge\n",
    "df_merge=pd.merge(group_data_TP, group_data_FP,on=['tool','threshold','strain','n','cov'])\n",
    "df_merge=pd.merge(df_merge, group_data_TN,on=['tool','threshold','strain','n','cov'])\n",
    "df_merge[pd.isnull(df_merge).any(axis=1)]\n",
    "\n",
    "df_merge.head()"
   ]
  },
  {
   "cell_type": "code",
   "execution_count": null,
   "metadata": {},
   "outputs": [],
   "source": [
    "#true SVs\n",
    "df_current = pd.DataFrame(columns=['strain','length'])\n",
    "df_true = pd.DataFrame(columns=['strain','length'])\n",
    "\n",
    "\n",
    "for s in strain:\n",
    "    file='../gold_standard/mouse_vcf/'+s+'_reference.vcf'\n",
    "    callset = allel.read_vcf(file,fields='*')\n",
    "    \n",
    "    df_current = pd.DataFrame({'strain': s, 'length': callset['variants/SVLEN']})\n",
    "    df_true = pd.concat([df_current, df_true],ignore_index=True)\n",
    "group_data_true = df_true.groupby(['strain'],as_index=False).count()\n",
    "group_data_true=group_data_true.rename(columns={\"length\": \"n_true\"})\n",
    "group_data_true"
   ]
  },
  {
   "cell_type": "code",
   "execution_count": null,
   "metadata": {},
   "outputs": [],
   "source": [
    "df_merge=pd.merge(df_merge, group_data_true)\n",
    "df_merge.head()"
   ]
  },
  {
   "cell_type": "code",
   "execution_count": null,
   "metadata": {},
   "outputs": [],
   "source": [
    "df_merge['nFN']=df_merge['n_true']-df_merge['nTP']\n",
    "df_merge['sensitivity']=df_merge['nTP']/df_merge['n_true']\n",
    "df_merge['precision']=df_merge['nTP']/(df_merge['nTP']+df_merge['nFP'])\n",
    "df_merge['specificity']=df_merge['nTN']/(df_merge['nTN']+df_merge['nFP'])\n",
    "df_merge['f-score']=2*(df_merge['sensitivity']*df_merge['precision'])/(df_merge['sensitivity']+df_merge['precision']+0.00000001)\n",
    "df_merge = df_merge.replace(np.nan, 0)\n",
    "df_merge.tail()\n"
   ]
  },
  {
   "cell_type": "code",
   "execution_count": null,
   "metadata": {},
   "outputs": [],
   "source": [
    "df_sum=df_merge.groupby(['tool','threshold','cov','n'],as_index=False)['nTP','nFP','nFN','nTN'].sum()\n",
    "df_sum.head()"
   ]
  },
  {
   "cell_type": "code",
   "execution_count": null,
   "metadata": {},
   "outputs": [],
   "source": [
    "df_sum.groupby(['tool'],as_index=False).count()"
   ]
  },
  {
   "cell_type": "code",
   "execution_count": null,
   "metadata": {},
   "outputs": [],
   "source": [
    "df_merge_100=df_merge.loc[(df_merge['threshold'] =='100')]\n",
    "\n",
    "df_merge_mean=df_merge_100.groupby(['tool','threshold','cov'],as_index=False)['sensitivity','precision','specificity','f-score'].mean()\n",
    "df_merge_mean.head()"
   ]
  },
  {
   "cell_type": "code",
   "execution_count": null,
   "metadata": {},
   "outputs": [],
   "source": [
    "result = df_merge_mean.pivot(index='tool', columns='cov', values='sensitivity')\n",
    "result = result[['0.1','0.5','1','2','4','8','32']]\n",
    "\n",
    "import matplotlib.pyplot as plt\n",
    "import seaborn as sns\n",
    "\n",
    "fig3a=sns.set_style(\"white\")\n",
    "fig3a=sns.set_context(\"talk\")\n",
    "fig3a=sns.heatmap(result, annot=True, cmap='coolwarm',center=0,linewidths=.5,annot_kws={'size':15},fmt=\".2f\")\n",
    "fig3a.set(xlabel='Coverage', ylabel='')\n",
    "plt.title('Sensitivity', weight='bold')\n",
    "bottom, top = fig3a.get_ylim()\n",
    "fig3a.set_ylim(bottom + 0.5, top - 0.5)\n",
    "\n",
    "fig3a=sns.despine()\n",
    "#plt.show(fig3a)\n",
    "plt.savefig(\"../figures/fig3/Sensitivity.png\",bbox_inches=\"tight\")\n",
    "plt.savefig(\"../figures/fig3/Sensitivity.pdf\",bbox_inches=\"tight\")"
   ]
  },
  {
   "cell_type": "code",
   "execution_count": null,
   "metadata": {},
   "outputs": [],
   "source": [
    "result = df_merge_mean.pivot(index='tool', columns='cov', values='precision')\n",
    "result = result[['0.1','0.5','1','2','4','8','32']]\n",
    "\n",
    "import matplotlib.pyplot as plt\n",
    "import seaborn as sns\n",
    "\n",
    "fig3b=sns.set_style(\"white\")\n",
    "fig3b=sns.set_context(\"talk\")\n",
    "fig3b=sns.heatmap(result, annot=True, cmap='coolwarm',center=0,linewidths=.5,annot_kws={'size':15},fmt=\".2f\")\n",
    "fig3b.set(xlabel='Coverage', ylabel='')\n",
    "plt.title('Precision', weight='bold')\n",
    "bottom, top = fig3b.get_ylim()\n",
    "fig3b.set_ylim(bottom + 0.5, top - 0.5)\n",
    "\n",
    "fig3b=sns.despine()\n",
    "#plt.show(fig3b)\n",
    "plt.savefig(\"../figures/fig3/Precision.png\",bbox_inches=\"tight\")\n",
    "plt.savefig(\"../figures/fig3/Precision.pdf\",bbox_inches=\"tight\")"
   ]
  },
  {
   "cell_type": "code",
   "execution_count": null,
   "metadata": {},
   "outputs": [],
   "source": [
    "result = df_merge_mean.pivot(index='tool', columns='cov', values='specificity')\n",
    "result = result[['0.1','0.5','1','2','4','8','32']]\n",
    "\n",
    "import matplotlib.pyplot as plt\n",
    "import seaborn as sns\n",
    "\n",
    "fig3c=sns.set_style(\"white\")\n",
    "fig3c=sns.set_context(\"talk\")\n",
    "fig3c=sns.heatmap(result, annot=True, cmap='coolwarm',center=0,linewidths=.5,annot_kws={'size':15},fmt=\".2f\")\n",
    "fig3c.set(xlabel='Coverage', ylabel='')\n",
    "plt.title('Specificity', weight='bold')\n",
    "bottom, top = fig3c.get_ylim()\n",
    "fig3c.set_ylim(bottom + 0.5, top - 0.5)\n",
    "\n",
    "fig3c=sns.despine()\n",
    "#plt.show(fig3c)\n",
    "plt.savefig(\"../figures/fig3/Specificity.png\",bbox_inches=\"tight\")\n",
    "plt.savefig(\"../figures/fig3/Specificity.pdf\",bbox_inches=\"tight\")"
   ]
  },
  {
   "cell_type": "code",
   "execution_count": null,
   "metadata": {},
   "outputs": [],
   "source": [
    "result = df_merge_mean.pivot(index='tool', columns='cov', values='f-score')\n",
    "result = result[['0.1','0.5','1','2','4','8','32']]\n",
    "\n",
    "import matplotlib.pyplot as plt\n",
    "import seaborn as sns\n",
    "\n",
    "fig3d=sns.set_style(\"white\")\n",
    "fig3d=sns.set_context(\"talk\")\n",
    "fig3d=sns.heatmap(result, annot=True, cmap='coolwarm',center=0,linewidths=.5,annot_kws={'size':15},fmt=\".2f\")\n",
    "fig3d.set(xlabel='Coverage', ylabel='')\n",
    "plt.title('F-score', weight='bold')\n",
    "bottom, top = fig3d.get_ylim()\n",
    "fig3d.set_ylim(bottom + 0.5, top - 0.5)\n",
    "\n",
    "fig3d=sns.despine()\n",
    "#plt.show(fig3d)\n",
    "plt.savefig(\"../figures/fig3/Fscore.png\",bbox_inches=\"tight\")\n",
    "plt.savefig(\"../figures/fig3/Fscore.pdf\",bbox_inches=\"tight\")\n",
    "\n"
   ]
  },
  {
   "cell_type": "code",
   "execution_count": null,
   "metadata": {},
   "outputs": [],
   "source": [
    "df_merge.to_csv('../analysis_files/df_merge.csv',index=False)\n",
    "df_sum.to_csv('../analysis_files/df_sum.csv',index=False)"
   ]
  },
  {
   "cell_type": "code",
   "execution_count": null,
   "metadata": {},
   "outputs": [],
   "source": []
  }
 ],
 "metadata": {
  "kernelspec": {
   "display_name": "Python 3",
   "language": "python",
   "name": "python3"
  },
  "language_info": {
   "codemirror_mode": {
    "name": "ipython",
    "version": 3
   },
   "file_extension": ".py",
   "mimetype": "text/x-python",
   "name": "python",
   "nbconvert_exporter": "python",
   "pygments_lexer": "ipython3",
   "version": "3.5.2"
  }
 },
 "nbformat": 4,
 "nbformat_minor": 2
}
