{
 "cells": [
  {
   "cell_type": "code",
   "execution_count": 1,
   "metadata": {},
   "outputs": [],
   "source": [
    "#conda install -c conda-forge scikit-allel\n",
    "import pandas as pd\n",
    "import allel\n",
    "import numpy as np\n",
    "import matplotlib.pyplot as plt\n",
    "import seaborn as sns"
   ]
  },
  {
   "cell_type": "code",
   "execution_count": 2,
   "metadata": {},
   "outputs": [],
   "source": [
    "#deletions for this project are across seven inbred mouse strains; underscore used in place of /\n",
    "strain=['A_J','AKR_J','BALB_CJ','CBA_J','C3H_HeJ','DBA_2J','LP_J']"
   ]
  },
  {
   "cell_type": "code",
   "execution_count": 3,
   "metadata": {},
   "outputs": [
    {
     "name": "stderr",
     "output_type": "stream",
     "text": [
      "/home/vc/.local/lib/python3.5/site-packages/ipykernel_launcher.py:10: FutureWarning: Sorting because non-concatenation axis is not aligned. A future version\n",
      "of pandas will change to not sort by default.\n",
      "\n",
      "To accept the future behavior, pass 'sort=False'.\n",
      "\n",
      "To retain the current behavior and silence the warning, pass 'sort=True'.\n",
      "\n",
      "  # Remove the CWD from sys.path while we load stuff.\n"
     ]
    }
   ],
   "source": [
    "df_current = pd.DataFrame(columns=['strain','length'])\n",
    "df = pd.DataFrame(columns=['strain','length'])\n",
    "\n",
    "\n",
    "for s in strain:\n",
    "    file='../Data/gold_standard/mouse_vcf/'+s+'_reference.vcf'\n",
    "    callset = allel.read_vcf(file,fields='*')\n",
    "    \n",
    "    df_current = pd.DataFrame({'strain': s, 'length': callset['variants/SVLEN']})\n",
    "    df = pd.concat([df_current, df],ignore_index=True)"
   ]
  },
  {
   "cell_type": "code",
   "execution_count": 4,
   "metadata": {},
   "outputs": [],
   "source": [
    "df['length']=pd.to_numeric(df['length'])"
   ]
  },
  {
   "cell_type": "code",
   "execution_count": 5,
   "metadata": {},
   "outputs": [],
   "source": [
    "df.to_csv('../Data/analysis_files/true_length_7_strains.csv',index=False)"
   ]
  },
  {
   "cell_type": "markdown",
   "metadata": {},
   "source": [
    "# Figure 1a"
   ]
  },
  {
   "cell_type": "code",
   "execution_count": 6,
   "metadata": {},
   "outputs": [
    {
     "data": {
      "image/png": "[encoded data removed]",
      "text/plain": [
       "<Figure size 648x360 with 1 Axes>"
      ]
     },
     "metadata": {},
     "output_type": "display_data"
    }
   ],
   "source": [
    "#average deletion length by mouse strain\n",
    "fig1a=sns.set_style('white')\n",
    "fig1a=sns.set_context('talk')\n",
    "fig1a = sns.catplot(x='strain', y='length',kind='boxen',data=df, aspect=1.8,palette='Greys', order=['A_J', 'AKR_J', 'BALB_CJ', 'CBA_J', 'C3H_HeJ', 'DBA_2J', 'LP_J'])\n",
    "fig1a.set(yscale='log');\n",
    "fig1a.set(xlabel='', ylabel='Deletion Length (bp)')\n",
    "fig1a=sns.despine()\n",
    "plt.xticks(rotation=90)\n",
    "plt.savefig(\"../Figures/fig1/fig1a.svg\")\n",
    "plt.savefig(\"../Figures/fig1/fig1a.eps\")\n",
    "plt.savefig(\"../Figures/fig1/fig1a\", bbox_inches='tight')\n",
    "plt.savefig(\"../Figures/fig1/fig1a.pdf\", bbox_inches='tight')"
   ]
  },
  {
   "cell_type": "code",
   "execution_count": 7,
   "metadata": {
    "scrolled": true
   },
   "outputs": [
    {
     "name": "stdout",
     "output_type": "stream",
     "text": [
      "Number of SVs for 7 strains: 3799\n"
     ]
    }
   ],
   "source": [
    "count_row = df.shape[0]\n",
    "print (\"Number of SVs for 7 strains:\",count_row)"
   ]
  },
  {
   "cell_type": "code",
   "execution_count": 8,
   "metadata": {},
   "outputs": [
    {
     "name": "stdout",
     "output_type": "stream",
     "text": [
      "Max deletion length\n"
     ]
    },
    {
     "data": {
      "text/plain": [
       "length    239572\n",
       "strain      LP_J\n",
       "dtype: object"
      ]
     },
     "execution_count": 8,
     "metadata": {},
     "output_type": "execute_result"
    }
   ],
   "source": [
    "print (\"Max deletion length\")\n",
    "df.max()"
   ]
  },
  {
   "cell_type": "code",
   "execution_count": 9,
   "metadata": {},
   "outputs": [
    {
     "name": "stdout",
     "output_type": "stream",
     "text": [
      "length    1633.024217\n",
      "dtype: float64 length    7285.812215\n",
      "dtype: float64\n"
     ]
    }
   ],
   "source": [
    "print (df.mean(),df.std())"
   ]
  },
  {
   "cell_type": "code",
   "execution_count": 10,
   "metadata": {},
   "outputs": [
    {
     "name": "stdout",
     "output_type": "stream",
     "text": [
      "n    542.714286\n",
      "dtype: float64 n    43.675753\n",
      "dtype: float64\n"
     ]
    }
   ],
   "source": [
    "deletions_per_strain=df.groupby(['strain']).count()\n",
    "deletions_per_strain=deletions_per_strain.rename(columns={'length': 'n', 'B': 'c'})\n",
    "deletions_per_strain.head()\n",
    "deletions_per_strain.to_csv('../Data/analysis_files/SV_deletions_per_strain.csv')\n",
    "print(deletions_per_strain.mean(),deletions_per_strain.std())"
   ]
  },
  {
   "cell_type": "code",
   "execution_count": 11,
   "metadata": {},
   "outputs": [],
   "source": [
    "df_50_100=df.loc[(df['length'] > 50) & (df['length'] <= 100)]\n",
    "df_100_500=df.loc[(df['length'] > 100) & (df['length'] <= 500)]\n",
    "df_500_1000=df.loc[(df['length'] > 500) & (df['length'] <=1000)]\n",
    "df_1000=df.loc[(df['length'] >1000)]"
   ]
  },
  {
   "cell_type": "code",
   "execution_count": 12,
   "metadata": {},
   "outputs": [],
   "source": [
    "count_row_50_100 = df_50_100.shape[0]\n",
    "count_row_100_500 = df_100_500.shape[0]\n",
    "count_row_500_1000 = df_500_1000.shape[0]\n",
    "count_row_1000 = df_1000.shape[0]\n",
    "\n",
    "f=open('../Data/analysis_files/true_number_SVs_by_category.csv','w')\n",
    "f.write('cat,n')\n",
    "f.write('\\n')\n",
    "f.write('50-100,'+str(count_row_50_100))\n",
    "f.write('\\n')\n",
    "f.write('100-500,'+str(count_row_100_500))\n",
    "f.write('\\n')\n",
    "f.write('500-1000,'+str(count_row_500_1000))\n",
    "f.write('\\n')\n",
    "f.write('>1000,'+str(count_row_1000))\n",
    "f.write('\\n')\n",
    "f.close()"
   ]
  },
  {
   "cell_type": "code",
   "execution_count": 13,
   "metadata": {},
   "outputs": [
    {
     "name": "stdout",
     "output_type": "stream",
     "text": [
      "Stored 'df_cat' (DataFrame)\n"
     ]
    }
   ],
   "source": [
    "df_cat=pd.read_csv('../Data/analysis_files/true_number_SVs_by_category.csv')\n",
    "df_cat['precision']=(df_cat['n']/3710)*100\n",
    "df_cat.head()\n",
    "%store df_cat"
   ]
  },
  {
   "cell_type": "code",
   "execution_count": 14,
   "metadata": {},
   "outputs": [],
   "source": [
    "strain=['A_J','AKR_J','BALB_CJ','CBA_J','C3H_HeJ','DBA_2J','LP_J']\n",
    "\n",
    "#total tools=15\n",
    "tools=['BioGraph*',\n",
    "'breakdancer',\n",
    "'clever',\n",
    "'delly',\n",
    "'gasv',\n",
    "'gridss',\n",
    "'indelminer',\n",
    "'mistrvar',\n",
    "'pindel',\n",
    "'popdel',\n",
    "'rdxplorer',\n",
    "'smoove',\n",
    "'crest',\n",
    "'genomestrip',\n",
    "'manta_diploidSV',\n",
    "'Tardis']"
   ]
  },
  {
   "cell_type": "code",
   "execution_count": 15,
   "metadata": {},
   "outputs": [
    {
     "name": "stderr",
     "output_type": "stream",
     "text": [
      "/home/vc/.local/lib/python3.5/site-packages/allel/io/vcf_read.py:1736: UserWarning: multiple INFO headers for 'SVLEN'\n",
      "  warnings.warn('multiple INFO headers for %r' % k)\n",
      "/home/vc/.local/lib/python3.5/site-packages/ipykernel_launcher.py:17: FutureWarning: Sorting because non-concatenation axis is not aligned. A future version\n",
      "of pandas will change to not sort by default.\n",
      "\n",
      "To accept the future behavior, pass 'sort=False'.\n",
      "\n",
      "To retain the current behavior and silence the warning, pass 'sort=True'.\n",
      "\n"
     ]
    }
   ],
   "source": [
    "#tool detection of deletions\n",
    "df_current = pd.DataFrame(columns=['strain','length'])\n",
    "df = pd.DataFrame(columns=['tool','strain','length'])\n",
    "\n",
    "#0t.sniffles.LP_J_chr19.100p_sorted.modified.vcf\n",
    "for s in strain:\n",
    "    for t in tools:\n",
    "        file='../Data/raw_data/mouse/custom_vcf_fulldata/0t/deletions/nf_0t.'+t+'.'+s+'.chr19.100p_sorted.modified.vcf'\n",
    "        \n",
    "        callset = allel.read_vcf(file,fields='*')\n",
    "        # print(type(callset))\n",
    "        \n",
    "        if callset:\n",
    "            df_current = pd.DataFrame({'tool': t, 'strain': s, 'length': callset['variants/SVLEN']})\n",
    "            #print(df_current)\n",
    "        \n",
    "            df = pd.concat([df_current, df],ignore_index=True)\n",
    "        else:\n",
    "            print(\"Empty File: \" + file)\n",
    "            \n",
    "#missing files: pindel.BALB_CJ and platypus.BALB_CJ\n",
    "#from Varuni's files under custom_vcf_fulldata (not new)"
   ]
  },
  {
   "cell_type": "code",
   "execution_count": 16,
   "metadata": {},
   "outputs": [
    {
     "name": "stdout",
     "output_type": "stream",
     "text": [
      "       length strain            tool\n",
      "0         730   LP_J  true deletions\n",
      "1        2613   LP_J  true deletions\n",
      "2        1341   LP_J  true deletions\n",
      "3         226   LP_J  true deletions\n",
      "4         725   LP_J  true deletions\n",
      "5        2653   LP_J  true deletions\n",
      "6          76   LP_J  true deletions\n",
      "7         470   LP_J  true deletions\n",
      "8         234   LP_J  true deletions\n",
      "9         185   LP_J  true deletions\n",
      "10        169   LP_J  true deletions\n",
      "11        154   LP_J  true deletions\n",
      "12        423   LP_J  true deletions\n",
      "13        877   LP_J  true deletions\n",
      "14         73   LP_J  true deletions\n",
      "15        105   LP_J  true deletions\n",
      "16        230   LP_J  true deletions\n",
      "17        184   LP_J  true deletions\n",
      "18        988   LP_J  true deletions\n",
      "19       1313   LP_J  true deletions\n",
      "20         75   LP_J  true deletions\n",
      "21        336   LP_J  true deletions\n",
      "22       7427   LP_J  true deletions\n",
      "23        152   LP_J  true deletions\n",
      "24         87   LP_J  true deletions\n",
      "25       3895   LP_J  true deletions\n",
      "26        327   LP_J  true deletions\n",
      "27         98   LP_J  true deletions\n",
      "28       2208   LP_J  true deletions\n",
      "29       6479   LP_J  true deletions\n",
      "...       ...    ...             ...\n",
      "868125    201    A_J       BioGraph*\n",
      "868126    344    A_J       BioGraph*\n",
      "868127     52    A_J       BioGraph*\n",
      "868128   7227    A_J       BioGraph*\n",
      "868129     55    A_J       BioGraph*\n",
      "868130     91    A_J       BioGraph*\n",
      "868131    221    A_J       BioGraph*\n",
      "868132    215    A_J       BioGraph*\n",
      "868133    181    A_J       BioGraph*\n",
      "868134   1082    A_J       BioGraph*\n",
      "868135   6478    A_J       BioGraph*\n",
      "868136    540    A_J       BioGraph*\n",
      "868137     51    A_J       BioGraph*\n",
      "868138     96    A_J       BioGraph*\n",
      "868139   1133    A_J       BioGraph*\n",
      "868140    126    A_J       BioGraph*\n",
      "868141    146    A_J       BioGraph*\n",
      "868142    692    A_J       BioGraph*\n",
      "868143     60    A_J       BioGraph*\n",
      "868144    134    A_J       BioGraph*\n",
      "868145   8731    A_J       BioGraph*\n",
      "868146    156    A_J       BioGraph*\n",
      "868147     54    A_J       BioGraph*\n",
      "868148    203    A_J       BioGraph*\n",
      "868149    609    A_J       BioGraph*\n",
      "868150     69    A_J       BioGraph*\n",
      "868151     69    A_J       BioGraph*\n",
      "868152   6468    A_J       BioGraph*\n",
      "868153    252    A_J       BioGraph*\n",
      "868154    121    A_J       BioGraph*\n",
      "\n",
      "[868155 rows x 3 columns]\n"
     ]
    }
   ],
   "source": [
    "#true/gold standard detection of deletions\n",
    "df_current = pd.DataFrame(columns=['strain','length'])\n",
    "\n",
    "\n",
    "for s in strain:\n",
    "    file='../Data/gold_standard/mouse_vcf/'+s+'_reference.vcf'\n",
    "    callset = allel.read_vcf(file,fields='*')\n",
    "    \n",
    "    df_current = pd.DataFrame({'tool': 'true deletions', 'strain': s, 'length': callset['variants/SVLEN']})\n",
    "    df = pd.concat([df_current, df],ignore_index=True)\n",
    "\n",
    "print(df)"
   ]
  },
  {
   "cell_type": "code",
   "execution_count": 17,
   "metadata": {},
   "outputs": [],
   "source": [
    "df['length']=pd.to_numeric(df['length'])\n",
    "df = df[df['length']>=50]\n"
   ]
  },
  {
   "cell_type": "markdown",
   "metadata": {},
   "source": [
    "# Color-coding tools for consistency across all data figures"
   ]
  },
  {
   "cell_type": "code",
   "execution_count": 18,
   "metadata": {},
   "outputs": [],
   "source": [
    "color_map = {'BioGraph*':'yellowgreen', 'breakdancer':'peru', 'clever':'gold', 'delly':'darkorange', 'delly':'mediumorchid', \n",
    "             'gasv':'firebrick', 'gridss':'cornflowerblue', 'indelminer':'forestgreen', \n",
    "             'mistrvar':'salmon', 'pindel':'darkorange', 'popdel':'navy', 'rdxplorer':'darkgray', \n",
    "             'smoove':'orangered',  'true deletions':'black',  'crest':'red', 'genomestrip':'pink','manta_diploidSV':'aqua','Tardis':'lime'}\n",
    "\n",
    "color_map1 = {'BioGraph*':'yellowgreen', 'BreakDancer':'peru', 'CLEVER':'gold', 'DELLY':'darkorange', 'DELLY':'mediumorchid', \n",
    "             'GASV':'firebrick', 'GRIDSS':'cornflowerblue', 'indelMINER':'forestgreen', \n",
    "             'MiStrVar':'salmon', 'Pindel':'darkorange', 'PopDel':'navy', 'RDXplorer':'darkgray', \n",
    "             'LUMPY':'orangered', 'true deletions':'black', 'CREST':'red', 'GenomeSTRiP':'pink','Manta':'aqua','Tardis':'lime'}\n",
    "\n",
    "test = [\"true deletions\", \"BioGraph*\",\"breakdancer\", \"clever\", \"delly\", \"gasv\", \n",
    "        \"gridss\", \"indelminer\", \"mistrvar\", \"pindel\",\"popdel\",\"rdxplorer\", \"smoove\",\"crest\",\"genomestrip\",\"manta_diploidSV\",\"Tardis\"]\n"
   ]
  },
  {
   "cell_type": "code",
   "execution_count": 19,
   "metadata": {},
   "outputs": [
    {
     "name": "stdout",
     "output_type": "stream",
     "text": [
      "Stored 'color_map' (dict)\n",
      "Stored 'color_map1' (dict)\n"
     ]
    }
   ],
   "source": [
    "%store color_map\n",
    "%store color_map1"
   ]
  },
  {
   "cell_type": "code",
   "execution_count": 20,
   "metadata": {},
   "outputs": [
    {
     "name": "stdout",
     "output_type": "stream",
     "text": [
      "Stored 'test' (list)\n"
     ]
    }
   ],
   "source": [
    "%store test"
   ]
  },
  {
   "cell_type": "markdown",
   "metadata": {},
   "source": [
    "# Figure 1b"
   ]
  },
  {
   "cell_type": "code",
   "execution_count": 21,
   "metadata": {
    "scrolled": true
   },
   "outputs": [
    {
     "data": {
      "text/html": [
       "<div>\n",
       "<style scoped>\n",
       "    .dataframe tbody tr th:only-of-type {\n",
       "        vertical-align: middle;\n",
       "    }\n",
       "\n",
       "    .dataframe tbody tr th {\n",
       "        vertical-align: top;\n",
       "    }\n",
       "\n",
       "    .dataframe thead th {\n",
       "        text-align: right;\n",
       "    }\n",
       "</style>\n",
       "<table border=\"1\" class=\"dataframe\">\n",
       "  <thead>\n",
       "    <tr style=\"text-align: right;\">\n",
       "      <th></th>\n",
       "      <th>tool</th>\n",
       "      <th>n</th>\n",
       "    </tr>\n",
       "  </thead>\n",
       "  <tbody>\n",
       "    <tr>\n",
       "      <th>0</th>\n",
       "      <td>BioGraph*</td>\n",
       "      <td>3175</td>\n",
       "    </tr>\n",
       "    <tr>\n",
       "      <th>1</th>\n",
       "      <td>Tardis</td>\n",
       "      <td>2221</td>\n",
       "    </tr>\n",
       "    <tr>\n",
       "      <th>2</th>\n",
       "      <td>breakdancer</td>\n",
       "      <td>3542</td>\n",
       "    </tr>\n",
       "    <tr>\n",
       "      <th>3</th>\n",
       "      <td>clever</td>\n",
       "      <td>12773</td>\n",
       "    </tr>\n",
       "    <tr>\n",
       "      <th>4</th>\n",
       "      <td>crest</td>\n",
       "      <td>2156</td>\n",
       "    </tr>\n",
       "    <tr>\n",
       "      <th>5</th>\n",
       "      <td>delly</td>\n",
       "      <td>3910</td>\n",
       "    </tr>\n",
       "    <tr>\n",
       "      <th>6</th>\n",
       "      <td>gasv</td>\n",
       "      <td>82225</td>\n",
       "    </tr>\n",
       "    <tr>\n",
       "      <th>7</th>\n",
       "      <td>genomestrip</td>\n",
       "      <td>1537</td>\n",
       "    </tr>\n",
       "    <tr>\n",
       "      <th>8</th>\n",
       "      <td>gridss</td>\n",
       "      <td>4084</td>\n",
       "    </tr>\n",
       "    <tr>\n",
       "      <th>9</th>\n",
       "      <td>indelminer</td>\n",
       "      <td>899</td>\n",
       "    </tr>\n",
       "    <tr>\n",
       "      <th>10</th>\n",
       "      <td>manta_diploidSV</td>\n",
       "      <td>3845</td>\n",
       "    </tr>\n",
       "    <tr>\n",
       "      <th>11</th>\n",
       "      <td>mistrvar</td>\n",
       "      <td>1943</td>\n",
       "    </tr>\n",
       "    <tr>\n",
       "      <th>12</th>\n",
       "      <td>pindel</td>\n",
       "      <td>64721</td>\n",
       "    </tr>\n",
       "    <tr>\n",
       "      <th>13</th>\n",
       "      <td>popdel</td>\n",
       "      <td>1625</td>\n",
       "    </tr>\n",
       "    <tr>\n",
       "      <th>14</th>\n",
       "      <td>rdxplorer</td>\n",
       "      <td>18531</td>\n",
       "    </tr>\n",
       "    <tr>\n",
       "      <th>15</th>\n",
       "      <td>smoove</td>\n",
       "      <td>3007</td>\n",
       "    </tr>\n",
       "    <tr>\n",
       "      <th>16</th>\n",
       "      <td>true deletions</td>\n",
       "      <td>3710</td>\n",
       "    </tr>\n",
       "  </tbody>\n",
       "</table>\n",
       "</div>"
      ],
      "text/plain": [
       "               tool      n\n",
       "0         BioGraph*   3175\n",
       "1            Tardis   2221\n",
       "2       breakdancer   3542\n",
       "3            clever  12773\n",
       "4             crest   2156\n",
       "5             delly   3910\n",
       "6              gasv  82225\n",
       "7       genomestrip   1537\n",
       "8            gridss   4084\n",
       "9        indelminer    899\n",
       "10  manta_diploidSV   3845\n",
       "11         mistrvar   1943\n",
       "12           pindel  64721\n",
       "13           popdel   1625\n",
       "14        rdxplorer  18531\n",
       "15           smoove   3007\n",
       "16   true deletions   3710"
      ]
     },
     "execution_count": 21,
     "metadata": {},
     "output_type": "execute_result"
    }
   ],
   "source": [
    "df_number=df.groupby('tool', as_index=False).count()\n",
    "del df_number['strain']\n",
    "df_number=df_number.rename(columns={'length': 'n'})\n",
    "def convert(df_number): \n",
    "    return tuple(df_number) \n",
    "\n",
    "df_number"
   ]
  },
  {
   "cell_type": "code",
   "execution_count": 22,
   "metadata": {},
   "outputs": [
    {
     "data": {
      "text/plain": [
       "array([ 0,  1,  2,  3,  4,  5,  6,  7,  8,  9, 10, 11, 12, 13, 14])"
      ]
     },
     "execution_count": 22,
     "metadata": {},
     "output_type": "execute_result"
    }
   ],
   "source": [
    "x = np.arange(15)\n",
    "x"
   ]
  },
  {
   "cell_type": "code",
   "execution_count": 23,
   "metadata": {
    "scrolled": true
   },
   "outputs": [],
   "source": [
    "# #number of deletions detected by each tool\n",
    "# import matplotlib.pyplot as plt; plt.rcdefaults()\n",
    "# import numpy as np\n",
    "# import matplotlib.pyplot as plt\n",
    "\n",
    "# fig1b, (ax, ax2)= plt.subplots(1,2,sharey=True)\n",
    "\n",
    "# ax.barh(width=df_number['n'], y=x)\n",
    "# ax2.barh(width=df_number['n'], y=x)\n",
    "\n",
    "# ax.set_xlim(0,20000)\n",
    "# ax2.set_xlim(50000,85000) \n",
    "\n",
    "# plt.yticks(x, df_number['tool'])\n",
    "# plt.xticks(rotation=30)\n",
    "# ax.set_xlabel('Number of deletions')\n",
    "# ax2.set_xlabel('Number of deletions')\n",
    "\n",
    "# ax.spines['right'].set_visible(False)\n",
    "# ax2.spines['left'].set_visible(False)\n",
    "# ax.yaxis.tick_left()\n",
    "# ax.tick_params(labeltop='off')\n",
    "# ax2.yaxis.tick_right()\n",
    "# plt.subplots_adjust(wspace=0.15)\n",
    "\n",
    "\n",
    "# #d = .015\n",
    "# #kwargs = dict(transform=ax.transAxes, color='k', clip_on=False)\n",
    "# #ax.plot((1-d,1+d), (-d,+d), **kwargs)\n",
    "# #ax.plot((1-d,1+d),(1-d,1+d), **kwargs)\n",
    "\n",
    "# #kwargs.update(transform=ax2.transAxes)\n",
    "# #ax2.plot((-d,+d), (1-d,1+d), **kwargs)\n",
    "# #ax2.plot((-d,+d), (-d,+d), **kwargs)\n",
    "\n",
    "# plt.savefig(\"../figures/fig1/fig1b\", bbox_inches='tight')"
   ]
  },
  {
   "cell_type": "code",
   "execution_count": 24,
   "metadata": {},
   "outputs": [
    {
     "data": {
      "text/html": [
       "<div>\n",
       "<style scoped>\n",
       "    .dataframe tbody tr th:only-of-type {\n",
       "        vertical-align: middle;\n",
       "    }\n",
       "\n",
       "    .dataframe tbody tr th {\n",
       "        vertical-align: top;\n",
       "    }\n",
       "\n",
       "    .dataframe thead th {\n",
       "        text-align: right;\n",
       "    }\n",
       "</style>\n",
       "<table border=\"1\" class=\"dataframe\">\n",
       "  <thead>\n",
       "    <tr style=\"text-align: right;\">\n",
       "      <th></th>\n",
       "      <th>tool</th>\n",
       "      <th>n</th>\n",
       "    </tr>\n",
       "  </thead>\n",
       "  <tbody>\n",
       "    <tr>\n",
       "      <th>0</th>\n",
       "      <td>BioGraph*</td>\n",
       "      <td>3175</td>\n",
       "    </tr>\n",
       "    <tr>\n",
       "      <th>1</th>\n",
       "      <td>Tardis</td>\n",
       "      <td>2221</td>\n",
       "    </tr>\n",
       "    <tr>\n",
       "      <th>2</th>\n",
       "      <td>breakdancer</td>\n",
       "      <td>3542</td>\n",
       "    </tr>\n",
       "    <tr>\n",
       "      <th>3</th>\n",
       "      <td>clever</td>\n",
       "      <td>12773</td>\n",
       "    </tr>\n",
       "    <tr>\n",
       "      <th>4</th>\n",
       "      <td>crest</td>\n",
       "      <td>2156</td>\n",
       "    </tr>\n",
       "    <tr>\n",
       "      <th>5</th>\n",
       "      <td>delly</td>\n",
       "      <td>3910</td>\n",
       "    </tr>\n",
       "    <tr>\n",
       "      <th>6</th>\n",
       "      <td>gasv</td>\n",
       "      <td>82225</td>\n",
       "    </tr>\n",
       "    <tr>\n",
       "      <th>7</th>\n",
       "      <td>genomestrip</td>\n",
       "      <td>1537</td>\n",
       "    </tr>\n",
       "    <tr>\n",
       "      <th>8</th>\n",
       "      <td>gridss</td>\n",
       "      <td>4084</td>\n",
       "    </tr>\n",
       "    <tr>\n",
       "      <th>9</th>\n",
       "      <td>indelminer</td>\n",
       "      <td>899</td>\n",
       "    </tr>\n",
       "    <tr>\n",
       "      <th>10</th>\n",
       "      <td>manta_diploidSV</td>\n",
       "      <td>3845</td>\n",
       "    </tr>\n",
       "    <tr>\n",
       "      <th>11</th>\n",
       "      <td>mistrvar</td>\n",
       "      <td>1943</td>\n",
       "    </tr>\n",
       "    <tr>\n",
       "      <th>12</th>\n",
       "      <td>pindel</td>\n",
       "      <td>64721</td>\n",
       "    </tr>\n",
       "    <tr>\n",
       "      <th>13</th>\n",
       "      <td>popdel</td>\n",
       "      <td>1625</td>\n",
       "    </tr>\n",
       "    <tr>\n",
       "      <th>14</th>\n",
       "      <td>rdxplorer</td>\n",
       "      <td>18531</td>\n",
       "    </tr>\n",
       "    <tr>\n",
       "      <th>15</th>\n",
       "      <td>smoove</td>\n",
       "      <td>3007</td>\n",
       "    </tr>\n",
       "    <tr>\n",
       "      <th>16</th>\n",
       "      <td>true deletions</td>\n",
       "      <td>3710</td>\n",
       "    </tr>\n",
       "  </tbody>\n",
       "</table>\n",
       "</div>"
      ],
      "text/plain": [
       "               tool      n\n",
       "0         BioGraph*   3175\n",
       "1            Tardis   2221\n",
       "2       breakdancer   3542\n",
       "3            clever  12773\n",
       "4             crest   2156\n",
       "5             delly   3910\n",
       "6              gasv  82225\n",
       "7       genomestrip   1537\n",
       "8            gridss   4084\n",
       "9        indelminer    899\n",
       "10  manta_diploidSV   3845\n",
       "11         mistrvar   1943\n",
       "12           pindel  64721\n",
       "13           popdel   1625\n",
       "14        rdxplorer  18531\n",
       "15           smoove   3007\n",
       "16   true deletions   3710"
      ]
     },
     "execution_count": 24,
     "metadata": {},
     "output_type": "execute_result"
    }
   ],
   "source": [
    "df_number"
   ]
  },
  {
   "cell_type": "code",
   "execution_count": 25,
   "metadata": {},
   "outputs": [
    {
     "data": {
      "image/png": "[encoded data removed]",
      "text/plain": [
       "<Figure size 432x288 with 2 Axes>"
      ]
     },
     "metadata": {},
     "output_type": "display_data"
    }
   ],
   "source": [
    "fig1b, (ax1, ax2) = plt.subplots(ncols=2, nrows=1, sharey=True)\n",
    "\n",
    "fig_order = ['indelminer','genomestrip','popdel','mistrvar','crest','Tardis','smoove','BioGraph*','breakdancer','true deletions','manta_diploidSV','delly','gridss','clever','rdxplorer','pindel','gasv']\n",
    "\n",
    "pal = []\n",
    "for tool in fig_order:\n",
    "    pal.append(color_map[tool])\n",
    "\n",
    "ax=sns.barplot(x='n',y='tool',data=df_number, ax=ax1, palette=pal,order=fig_order)\n",
    "ax=sns.barplot(x='n',y='tool',data=df_number, ax=ax2, palette=pal,order=fig_order)\n",
    "ax1.set_xlim(0,20000)\n",
    "ax2.set_xlim(50000,85000)\n",
    "# fig1b=sns.set_style('whitegrid')\n",
    "# fig1b=sns.set_context('talk')\n",
    "labels = ['indelMINER','GenomeSTRiP','PopDel','MiStrVar','CREST','Tardis','LUMPY','BioGraph*','BreakDancer','true deletions','Manta','DELLY','GRIDSS','CLEVER','RDXplorer','Pindel','GASV','Tardis']\n",
    "\n",
    "ax.set_yticklabels(labels)\n",
    "\n",
    "plt.subplots_adjust(wspace=0.1, hspace=0)\n",
    "ax1.set(xlabel= '', ylabel='Tool')\n",
    "ax2.set(xlabel='', ylabel='')\n",
    "plt.savefig(\"../Figures/fig1/fig1b_break.svg\", bbox_inches='tight')\n",
    "plt.savefig(\"../Figures/fig1/fig1b_break.eps\", bbox_inches='tight')\n",
    "plt.savefig(\"../Figures/fig1/fig1b_break\", bbox_inches='tight')\n",
    "plt.savefig(\"../Figures/fig1/fig1b_break.pdf\", bbox_inches='tight')"
   ]
  },
  {
   "cell_type": "code",
   "execution_count": 26,
   "metadata": {
    "scrolled": true
   },
   "outputs": [
    {
     "data": {
      "image/png": "[encoded data removed]",
      "text/plain": [
       "<Figure size 540x360 with 1 Axes>"
      ]
     },
     "metadata": {},
     "output_type": "display_data"
    }
   ],
   "source": [
    "fig1b=sns.set_style('whitegrid')\n",
    "fig1b=sns.set_context('talk')\n",
    "\n",
    "# fig_order=[\"true deletions\", \"BioGraph*\",\"breakdancer\", \"clever\", \"delly\", \"gasv\", \"gridss\", \"indelminer\",  \"mistrvar\", \"pindel\",\"popdel\",\"rdxplorer\", \"smoove\", \"sniffles\"]\n",
    "fig_order = ['indelminer','genomestrip','popdel','mistrvar','crest','Tardis','smoove','BioGraph*','breakdancer','true deletions','manta_diploidSV','delly','gridss','clever','rdxplorer','pindel','gasv']\n",
    "\n",
    "pal = []\n",
    "for tool in fig_order:\n",
    "    pal.append(color_map[tool])\n",
    "    \n",
    "fig1b = sns.catplot(x='n', y='tool',data=df_number,kind='bar',aspect=1.5, palette=pal, order=fig_order)\n",
    "fig1b.set(xlabel='Number of deletions', ylabel='Tool')\n",
    "labels = ['indelMINER','GenomeSTRiP','PopDel','MiStrVar','CREST','Tardis','LUMPY','BioGraph*','BreakDancer','true deletions','Manta','DELLY','GRIDSS','CLEVER','RDXplorer','Pindel','GASV']\n",
    "\n",
    "fig1b.set_yticklabels(labels)\n",
    "#fig1b.set(xscale=\"log\");\n",
    "fig1b=sns.despine()\n",
    "\n",
    "plt.savefig(\"../Figures/fig1/fig1b_no_break.png\", bbox_inches='tight')\n",
    "plt.savefig(\"../Figures/fig1/fig1b.pdf\", bbox_inches='tight')\n",
    "plt.savefig(\"../Figures/fig1/fig1b.eps\")\n",
    "plt.savefig(\"../Figures/fig1/fig1b.svg\")"
   ]
  },
  {
   "cell_type": "markdown",
   "metadata": {},
   "source": [
    "# Figure 1c"
   ]
  },
  {
   "cell_type": "code",
   "execution_count": 27,
   "metadata": {},
   "outputs": [],
   "source": [
    "# df_sum is defined in prepare_data_fig1"
   ]
  },
  {
   "cell_type": "code",
   "execution_count": 30,
   "metadata": {},
   "outputs": [],
   "source": [
    "df_sum=pd.read_csv('../Data/analysis_files/df_sum.csv')"
   ]
  },
  {
   "cell_type": "code",
   "execution_count": 32,
   "metadata": {
    "scrolled": true
   },
   "outputs": [
    {
     "data": {
      "image/png": "[encoded data removed]",
      "text/plain": [
       "<Figure size 818.65x360 with 1 Axes>"
      ]
     },
     "metadata": {},
     "output_type": "display_data"
    }
   ],
   "source": [
    "%store -r\n",
    "fig1c=sns.set_style(\"white\")\n",
    "fig1c=sns.set_context(\"talk\")\n",
    "\n",
    "fig_order = [\"indelminer\",\"gasv\",\"crest\",\"mistrvar\",\"rdxplorer\",\"genomestrip\",\"popdel\",\"pindel\",\"Tardis\",\"BioGraph*\",\"breakdancer\",\"smoove\",\"delly\",\"gridss\",\"manta_diploidSV\",\"clever\"]\n",
    "labels    = [\"indelMINER\",\"GASV\",\"CREST\",\"MiStrVar\",\"RDXplorer\",\"GenomeSTRiP\",\"PopDel\",\"Pindel\",\"Tardis\",\"BioGraph*\",\"BreakDancer\",\"LUMPY\",\"DELLY\",\"GRIDSS\",\"Manta\",\"CLEVER\"]\n",
    "df_sum[\"Tool\"] = df_sum[\"tool\"].map(dict(zip(fig_order, labels)))\n",
    "\n",
    "pal = []\n",
    "for tool in fig_order:\n",
    "    pal.append(color_map[tool])\n",
    "    \n",
    "fig1c = sns.catplot(x=\"threshold\", y=\"nTP\", kind=\"bar\",data = df_sum,hue=\"Tool\",aspect=1.8, palette=pal, hue_order=labels)\n",
    "fig1c.set(xlabel='Threshold (bp)', ylabel='Total number of TP calls')\n",
    "\n",
    "# fig1c=sns.despine()\n",
    "#plt.show(fig1c)\n",
    "plt.savefig(\"../Figures/fig1/fig1c.svg\", bbox_inches='tight')\n",
    "plt.savefig(\"../Figures/fig1/fig1c.eps\", bbox_inches='tight')\n",
    "plt.savefig(\"../Figures/fig1/fig1c\", bbox_inches='tight')\n",
    "plt.savefig(\"../Figures/fig1/fig1c.pdf\", bbox_inches='tight')\n"
   ]
  },
  {
   "cell_type": "code",
   "execution_count": 33,
   "metadata": {},
   "outputs": [],
   "source": [
    "df_sum.to_csv('../Data/analysis_files/df_sum.csv')"
   ]
  },
  {
   "cell_type": "markdown",
   "metadata": {},
   "source": [
    "# Figure 1d"
   ]
  },
  {
   "cell_type": "code",
   "execution_count": 35,
   "metadata": {
    "scrolled": false
   },
   "outputs": [
    {
     "data": {
      "image/png": "[encoded data removed]",
      "text/plain": [
       "<Figure size 818.65x360 with 1 Axes>"
      ]
     },
     "metadata": {},
     "output_type": "display_data"
    }
   ],
   "source": [
    "fig1d=sns.set_style(\"white\")\n",
    "fig1d=sns.set_context(\"talk\")\n",
    "\n",
    "fig_order = [\"gasv\",\"rdxplorer\",\"pindel\",\"mistrvar\",\"gridss\",\"delly\",\"genomestrip\",\"clever\",\"indelminer\",\n",
    "             \"BioGraph*\",\"breakdancer\",\"smoove\",\"popdel\",\"Tardis\",\"manta_diploidSV\",\"crest\"]\n",
    "labels    = [\"GASV\",\"RDXplorer\",\"Pindel\",\"MiStrVar\",\"GRIDSS\",\"DELLY\",\"GenomeSTRiP\",\"CLEVER\",\"indelMINER\",\n",
    "             \"BioGraph*\",\"BreakDancer\",\"LUMPY\",\"PopDel\",\"Tardis\",\"Manta\",\"CREST\"]\n",
    "df_sum[\"Tool\"] = df_sum[\"tool\"].map(dict(zip(fig_order, labels)))\n",
    "\n",
    "pal = []\n",
    "for tool in fig_order:\n",
    "    pal.append(color_map[tool])\n",
    "\n",
    "fig1d = sns.catplot(x=\"threshold\", y=\"nTN\", kind=\"bar\",data = df_sum,hue=\"Tool\",aspect=1.8, palette=pal,hue_order=labels)\n",
    "fig1d.set(xlabel='Threshold (bp)', ylabel='Total number of TN calls')\n",
    "fig1d=sns.despine()\n",
    "#plt.show(fig1d)\n",
    "\n",
    "plt.savefig(\"../Figures/fig1/fig1d\", bbox_inches='tight')\n",
    "plt.savefig(\"../Figures/fig1/fig1d.pdf\", bbox_inches='tight')\n",
    "plt.savefig(\"../Figures/fig1/fig1d.eps\")\n",
    "plt.savefig(\"../Figures/fig1/fig1d.svg\")"
   ]
  },
  {
   "cell_type": "markdown",
   "metadata": {},
   "source": [
    "# Figure 1e"
   ]
  },
  {
   "cell_type": "code",
   "execution_count": 39,
   "metadata": {},
   "outputs": [
    {
     "name": "stdout",
     "output_type": "stream",
     "text": [
      "               tool  threshold   nTP     nFP   nFN    nTN         Tool\n",
      "0         BioGraph*         10   297    2878  3502   1672    BioGraph*\n",
      "1         BioGraph*        100  1827    1348  1972   2249    BioGraph*\n",
      "2         BioGraph*       1000  2004    1171  1795   2331    BioGraph*\n",
      "3         BioGraph*      10000  2163    1012  1636   2717    BioGraph*\n",
      "4            Tardis         10   175    2048  3624   2449       Tardis\n",
      "5            Tardis        100  1729     494  2070   2877       Tardis\n",
      "6            Tardis       1000  1924     299  1875   2942       Tardis\n",
      "7            Tardis      10000  1983     240  1816   3248       Tardis\n",
      "8       breakdancer         10    58    3484  3741   2026  BreakDancer\n",
      "9       breakdancer        100  1883    1659  1916   2483  BreakDancer\n",
      "10      breakdancer       1000  2420    1122  1379   2813  BreakDancer\n",
      "11      breakdancer      10000  2522    1020  1277   3247  BreakDancer\n",
      "12           clever         10   486   13270  3313   1086       CLEVER\n",
      "13           clever        100  2613   11143  1186   1963       CLEVER\n",
      "14           clever       1000  3004   10752   795   1586       CLEVER\n",
      "15           clever      10000  3201   10555   598   2230       CLEVER\n",
      "16            crest         10     0    2156  3799  16463        CREST\n",
      "17            crest        100   610    1546  3189  16480        CREST\n",
      "18            crest       1000  1395     761  2404  16555        CREST\n",
      "19            crest      10000  1512     644  2287  17429        CREST\n",
      "20            delly         10   515    6258  3284    917        DELLY\n",
      "21            delly        100  2329    4444  1470   1409        DELLY\n",
      "22            delly       1000  2635    4138  1164   1589        DELLY\n",
      "23            delly      10000  3029    3744   770   2943        DELLY\n",
      "24             gasv         10     0   82485  3799     56         GASV\n",
      "25             gasv        100   597   81888  3202     93         GASV\n",
      "26             gasv       1000  2383   80102  1416    357         GASV\n",
      "27             gasv      10000  3752   78733    47   4193         GASV\n",
      "28      genomestrip         10    93    1444  3706    995  GenomeSTRiP\n",
      "29      genomestrip        100   926     611  2873   1429  GenomeSTRiP\n",
      "..              ...        ...   ...     ...   ...    ...          ...\n",
      "34           gridss       1000  2888   15455   911    895       GRIDSS\n",
      "35           gridss      10000  3494   14849   305   4249       GRIDSS\n",
      "36       indelminer         10    91   78430  3708   1720   indelMINER\n",
      "37       indelminer        100   520   78001  3279   1727   indelMINER\n",
      "38       indelminer       1000  1250   77271  2549   1881   indelMINER\n",
      "39       indelminer      10000  2085   76436  1714   8749   indelMINER\n",
      "40  manta_diploidSV         10   426    3419  3373   3299        Manta\n",
      "41  manta_diploidSV        100  2485    1360  1314   4763        Manta\n",
      "42  manta_diploidSV       1000  2688    1157  1111   5030        Manta\n",
      "43  manta_diploidSV      10000  2850     995   949   6783        Manta\n",
      "44         mistrvar         10   147   46818  3652    421     MiStrVar\n",
      "45         mistrvar        100   859   46106  2940    445     MiStrVar\n",
      "46         mistrvar       1000  1489   45476  2310    605     MiStrVar\n",
      "47         mistrvar      10000  3380   43585   419   6157     MiStrVar\n",
      "48           pindel         10   330  577406  3469    330       Pindel\n",
      "49           pindel        100  1670  576066  2129    350       Pindel\n",
      "50           pindel       1000  2740  574996  1059   1126       Pindel\n",
      "51           pindel      10000  3740  573996    59  32121       Pindel\n",
      "52           popdel         10    66    1559  3733   2066       PopDel\n",
      "53           popdel        100  1277     348  2522   2523       PopDel\n",
      "54           popdel       1000  1550      75  2249   2662       PopDel\n",
      "55           popdel      10000  1577      48  2222   2877       PopDel\n",
      "56        rdxplorer         10    32   18499  3767    515    RDXplorer\n",
      "57        rdxplorer        100   886   17645  2913    175    RDXplorer\n",
      "58        rdxplorer       1000  1600   16931  2199    410    RDXplorer\n",
      "59        rdxplorer      10000  2879   15652   920   1326    RDXplorer\n",
      "60           smoove         10   667    2473  3132   2011        LUMPY\n",
      "61           smoove        100  2249     891  1550   2664        LUMPY\n",
      "62           smoove       1000  2464     676  1335   2791        LUMPY\n",
      "63           smoove      10000  2601     539  1198   3370        LUMPY\n",
      "\n",
      "[64 rows x 7 columns]\n"
     ]
    }
   ],
   "source": [
    "df_sum.loc[(df_sum['threshold'] ==100)]\n",
    "print(df_sum)\n"
   ]
  },
  {
   "cell_type": "code",
   "execution_count": 40,
   "metadata": {},
   "outputs": [],
   "source": [
    "color_map1 = {'BioGraph*':'yellowgreen', 'BreakDancer':'peru', 'CLEVER':'gold', 'DELLY':'darkorange', 'DELLY':'mediumorchid', \n",
    "             'GASV':'firebrick', 'GRIDSS':'cornflowerblue', 'indelMINER':'forestgreen', \n",
    "             'MiStrVar':'salmon', 'Pindel':'darkorange', 'PopDel':'navy', 'RDXplorer':'darkgray', \n",
    "             'LUMPY':'orangered', 'true deletions':'black', 'CREST':'red', 'GenomeSTRiP':'pink','Manta':'aqua'}\n"
   ]
  },
  {
   "cell_type": "code",
   "execution_count": 41,
   "metadata": {},
   "outputs": [],
   "source": [
    "df_new=df_sum.loc[(df_sum['threshold'] ==100)]"
   ]
  },
  {
   "cell_type": "code",
   "execution_count": 42,
   "metadata": {},
   "outputs": [
    {
     "data": {
      "text/html": [
       "<div>\n",
       "<style scoped>\n",
       "    .dataframe tbody tr th:only-of-type {\n",
       "        vertical-align: middle;\n",
       "    }\n",
       "\n",
       "    .dataframe tbody tr th {\n",
       "        vertical-align: top;\n",
       "    }\n",
       "\n",
       "    .dataframe thead th {\n",
       "        text-align: right;\n",
       "    }\n",
       "</style>\n",
       "<table border=\"1\" class=\"dataframe\">\n",
       "  <thead>\n",
       "    <tr style=\"text-align: right;\">\n",
       "      <th></th>\n",
       "      <th>tool</th>\n",
       "      <th>threshold</th>\n",
       "      <th>nTP</th>\n",
       "      <th>nFP</th>\n",
       "      <th>nFN</th>\n",
       "      <th>nTN</th>\n",
       "      <th>Tool</th>\n",
       "    </tr>\n",
       "  </thead>\n",
       "  <tbody>\n",
       "    <tr>\n",
       "      <th>1</th>\n",
       "      <td>BioGraph*</td>\n",
       "      <td>100</td>\n",
       "      <td>1827</td>\n",
       "      <td>1348</td>\n",
       "      <td>1972</td>\n",
       "      <td>2249</td>\n",
       "      <td>BioGraph*</td>\n",
       "    </tr>\n",
       "    <tr>\n",
       "      <th>5</th>\n",
       "      <td>Tardis</td>\n",
       "      <td>100</td>\n",
       "      <td>1729</td>\n",
       "      <td>494</td>\n",
       "      <td>2070</td>\n",
       "      <td>2877</td>\n",
       "      <td>Tardis</td>\n",
       "    </tr>\n",
       "    <tr>\n",
       "      <th>9</th>\n",
       "      <td>breakdancer</td>\n",
       "      <td>100</td>\n",
       "      <td>1883</td>\n",
       "      <td>1659</td>\n",
       "      <td>1916</td>\n",
       "      <td>2483</td>\n",
       "      <td>BreakDancer</td>\n",
       "    </tr>\n",
       "    <tr>\n",
       "      <th>13</th>\n",
       "      <td>clever</td>\n",
       "      <td>100</td>\n",
       "      <td>2613</td>\n",
       "      <td>11143</td>\n",
       "      <td>1186</td>\n",
       "      <td>1963</td>\n",
       "      <td>CLEVER</td>\n",
       "    </tr>\n",
       "    <tr>\n",
       "      <th>17</th>\n",
       "      <td>crest</td>\n",
       "      <td>100</td>\n",
       "      <td>610</td>\n",
       "      <td>1546</td>\n",
       "      <td>3189</td>\n",
       "      <td>16480</td>\n",
       "      <td>CREST</td>\n",
       "    </tr>\n",
       "    <tr>\n",
       "      <th>21</th>\n",
       "      <td>delly</td>\n",
       "      <td>100</td>\n",
       "      <td>2329</td>\n",
       "      <td>4444</td>\n",
       "      <td>1470</td>\n",
       "      <td>1409</td>\n",
       "      <td>DELLY</td>\n",
       "    </tr>\n",
       "    <tr>\n",
       "      <th>25</th>\n",
       "      <td>gasv</td>\n",
       "      <td>100</td>\n",
       "      <td>597</td>\n",
       "      <td>81888</td>\n",
       "      <td>3202</td>\n",
       "      <td>93</td>\n",
       "      <td>GASV</td>\n",
       "    </tr>\n",
       "    <tr>\n",
       "      <th>29</th>\n",
       "      <td>genomestrip</td>\n",
       "      <td>100</td>\n",
       "      <td>926</td>\n",
       "      <td>611</td>\n",
       "      <td>2873</td>\n",
       "      <td>1429</td>\n",
       "      <td>GenomeSTRiP</td>\n",
       "    </tr>\n",
       "    <tr>\n",
       "      <th>33</th>\n",
       "      <td>gridss</td>\n",
       "      <td>100</td>\n",
       "      <td>2379</td>\n",
       "      <td>15964</td>\n",
       "      <td>1420</td>\n",
       "      <td>636</td>\n",
       "      <td>GRIDSS</td>\n",
       "    </tr>\n",
       "    <tr>\n",
       "      <th>37</th>\n",
       "      <td>indelminer</td>\n",
       "      <td>100</td>\n",
       "      <td>520</td>\n",
       "      <td>78001</td>\n",
       "      <td>3279</td>\n",
       "      <td>1727</td>\n",
       "      <td>indelMINER</td>\n",
       "    </tr>\n",
       "    <tr>\n",
       "      <th>41</th>\n",
       "      <td>manta_diploidSV</td>\n",
       "      <td>100</td>\n",
       "      <td>2485</td>\n",
       "      <td>1360</td>\n",
       "      <td>1314</td>\n",
       "      <td>4763</td>\n",
       "      <td>Manta</td>\n",
       "    </tr>\n",
       "    <tr>\n",
       "      <th>45</th>\n",
       "      <td>mistrvar</td>\n",
       "      <td>100</td>\n",
       "      <td>859</td>\n",
       "      <td>46106</td>\n",
       "      <td>2940</td>\n",
       "      <td>445</td>\n",
       "      <td>MiStrVar</td>\n",
       "    </tr>\n",
       "    <tr>\n",
       "      <th>49</th>\n",
       "      <td>pindel</td>\n",
       "      <td>100</td>\n",
       "      <td>1670</td>\n",
       "      <td>576066</td>\n",
       "      <td>2129</td>\n",
       "      <td>350</td>\n",
       "      <td>Pindel</td>\n",
       "    </tr>\n",
       "    <tr>\n",
       "      <th>53</th>\n",
       "      <td>popdel</td>\n",
       "      <td>100</td>\n",
       "      <td>1277</td>\n",
       "      <td>348</td>\n",
       "      <td>2522</td>\n",
       "      <td>2523</td>\n",
       "      <td>PopDel</td>\n",
       "    </tr>\n",
       "    <tr>\n",
       "      <th>57</th>\n",
       "      <td>rdxplorer</td>\n",
       "      <td>100</td>\n",
       "      <td>886</td>\n",
       "      <td>17645</td>\n",
       "      <td>2913</td>\n",
       "      <td>175</td>\n",
       "      <td>RDXplorer</td>\n",
       "    </tr>\n",
       "    <tr>\n",
       "      <th>61</th>\n",
       "      <td>smoove</td>\n",
       "      <td>100</td>\n",
       "      <td>2249</td>\n",
       "      <td>891</td>\n",
       "      <td>1550</td>\n",
       "      <td>2664</td>\n",
       "      <td>LUMPY</td>\n",
       "    </tr>\n",
       "  </tbody>\n",
       "</table>\n",
       "</div>"
      ],
      "text/plain": [
       "               tool  threshold   nTP     nFP   nFN    nTN         Tool\n",
       "1         BioGraph*        100  1827    1348  1972   2249    BioGraph*\n",
       "5            Tardis        100  1729     494  2070   2877       Tardis\n",
       "9       breakdancer        100  1883    1659  1916   2483  BreakDancer\n",
       "13           clever        100  2613   11143  1186   1963       CLEVER\n",
       "17            crest        100   610    1546  3189  16480        CREST\n",
       "21            delly        100  2329    4444  1470   1409        DELLY\n",
       "25             gasv        100   597   81888  3202     93         GASV\n",
       "29      genomestrip        100   926     611  2873   1429  GenomeSTRiP\n",
       "33           gridss        100  2379   15964  1420    636       GRIDSS\n",
       "37       indelminer        100   520   78001  3279   1727   indelMINER\n",
       "41  manta_diploidSV        100  2485    1360  1314   4763        Manta\n",
       "45         mistrvar        100   859   46106  2940    445     MiStrVar\n",
       "49           pindel        100  1670  576066  2129    350       Pindel\n",
       "53           popdel        100  1277     348  2522   2523       PopDel\n",
       "57        rdxplorer        100   886   17645  2913    175    RDXplorer\n",
       "61           smoove        100  2249     891  1550   2664        LUMPY"
      ]
     },
     "execution_count": 42,
     "metadata": {},
     "output_type": "execute_result"
    }
   ],
   "source": [
    "df_new"
   ]
  },
  {
   "cell_type": "code",
   "execution_count": 43,
   "metadata": {},
   "outputs": [],
   "source": [
    "df_new=df_new.reset_index(drop=True)"
   ]
  },
  {
   "cell_type": "code",
   "execution_count": 44,
   "metadata": {},
   "outputs": [],
   "source": [
    "color_map1 = {'BioGraph*':'yellowgreen', 'Tardis':'lime','BreakDancer':'peru', 'CLEVER':'gold', 'CREST':'red', 'DELLY':'darkorange', 'DELLY':'mediumorchid', \n",
    "             'GASV':'firebrick', 'GenomeSTRiP':'pink', 'GRIDSS':'cornflowerblue', 'indelMINER':'forestgreen','Manta':'aqua', \n",
    "             'MiStrVar':'salmon', 'Pindel':'darkorange', 'PopDel':'navy', 'RDXplorer':'darkgray', \n",
    "             'LUMPY':'orangered'}"
   ]
  },
  {
   "cell_type": "code",
   "execution_count": 45,
   "metadata": {},
   "outputs": [
    {
     "data": {
      "text/html": [
       "<div>\n",
       "<style scoped>\n",
       "    .dataframe tbody tr th:only-of-type {\n",
       "        vertical-align: middle;\n",
       "    }\n",
       "\n",
       "    .dataframe tbody tr th {\n",
       "        vertical-align: top;\n",
       "    }\n",
       "\n",
       "    .dataframe thead th {\n",
       "        text-align: right;\n",
       "    }\n",
       "</style>\n",
       "<table border=\"1\" class=\"dataframe\">\n",
       "  <thead>\n",
       "    <tr style=\"text-align: right;\">\n",
       "      <th></th>\n",
       "      <th>tool</th>\n",
       "      <th>threshold</th>\n",
       "      <th>nTP</th>\n",
       "      <th>nFP</th>\n",
       "      <th>nFN</th>\n",
       "      <th>nTN</th>\n",
       "      <th>Tool</th>\n",
       "    </tr>\n",
       "  </thead>\n",
       "  <tbody>\n",
       "    <tr>\n",
       "      <th>0</th>\n",
       "      <td>BioGraph*</td>\n",
       "      <td>100</td>\n",
       "      <td>1827</td>\n",
       "      <td>1348</td>\n",
       "      <td>1972</td>\n",
       "      <td>2249</td>\n",
       "      <td>BioGraph*</td>\n",
       "    </tr>\n",
       "    <tr>\n",
       "      <th>1</th>\n",
       "      <td>Tardis</td>\n",
       "      <td>100</td>\n",
       "      <td>1729</td>\n",
       "      <td>494</td>\n",
       "      <td>2070</td>\n",
       "      <td>2877</td>\n",
       "      <td>Tardis</td>\n",
       "    </tr>\n",
       "    <tr>\n",
       "      <th>2</th>\n",
       "      <td>breakdancer</td>\n",
       "      <td>100</td>\n",
       "      <td>1883</td>\n",
       "      <td>1659</td>\n",
       "      <td>1916</td>\n",
       "      <td>2483</td>\n",
       "      <td>BreakDancer</td>\n",
       "    </tr>\n",
       "    <tr>\n",
       "      <th>3</th>\n",
       "      <td>clever</td>\n",
       "      <td>100</td>\n",
       "      <td>2613</td>\n",
       "      <td>11143</td>\n",
       "      <td>1186</td>\n",
       "      <td>1963</td>\n",
       "      <td>CLEVER</td>\n",
       "    </tr>\n",
       "    <tr>\n",
       "      <th>4</th>\n",
       "      <td>crest</td>\n",
       "      <td>100</td>\n",
       "      <td>610</td>\n",
       "      <td>1546</td>\n",
       "      <td>3189</td>\n",
       "      <td>16480</td>\n",
       "      <td>CREST</td>\n",
       "    </tr>\n",
       "    <tr>\n",
       "      <th>5</th>\n",
       "      <td>delly</td>\n",
       "      <td>100</td>\n",
       "      <td>2329</td>\n",
       "      <td>4444</td>\n",
       "      <td>1470</td>\n",
       "      <td>1409</td>\n",
       "      <td>DELLY</td>\n",
       "    </tr>\n",
       "    <tr>\n",
       "      <th>6</th>\n",
       "      <td>gasv</td>\n",
       "      <td>100</td>\n",
       "      <td>597</td>\n",
       "      <td>81888</td>\n",
       "      <td>3202</td>\n",
       "      <td>93</td>\n",
       "      <td>GASV</td>\n",
       "    </tr>\n",
       "    <tr>\n",
       "      <th>7</th>\n",
       "      <td>genomestrip</td>\n",
       "      <td>100</td>\n",
       "      <td>926</td>\n",
       "      <td>611</td>\n",
       "      <td>2873</td>\n",
       "      <td>1429</td>\n",
       "      <td>GenomeSTRiP</td>\n",
       "    </tr>\n",
       "    <tr>\n",
       "      <th>8</th>\n",
       "      <td>gridss</td>\n",
       "      <td>100</td>\n",
       "      <td>2379</td>\n",
       "      <td>15964</td>\n",
       "      <td>1420</td>\n",
       "      <td>636</td>\n",
       "      <td>GRIDSS</td>\n",
       "    </tr>\n",
       "    <tr>\n",
       "      <th>9</th>\n",
       "      <td>indelminer</td>\n",
       "      <td>100</td>\n",
       "      <td>520</td>\n",
       "      <td>78001</td>\n",
       "      <td>3279</td>\n",
       "      <td>1727</td>\n",
       "      <td>indelMINER</td>\n",
       "    </tr>\n",
       "    <tr>\n",
       "      <th>10</th>\n",
       "      <td>manta_diploidSV</td>\n",
       "      <td>100</td>\n",
       "      <td>2485</td>\n",
       "      <td>1360</td>\n",
       "      <td>1314</td>\n",
       "      <td>4763</td>\n",
       "      <td>Manta</td>\n",
       "    </tr>\n",
       "    <tr>\n",
       "      <th>11</th>\n",
       "      <td>mistrvar</td>\n",
       "      <td>100</td>\n",
       "      <td>859</td>\n",
       "      <td>46106</td>\n",
       "      <td>2940</td>\n",
       "      <td>445</td>\n",
       "      <td>MiStrVar</td>\n",
       "    </tr>\n",
       "    <tr>\n",
       "      <th>12</th>\n",
       "      <td>pindel</td>\n",
       "      <td>100</td>\n",
       "      <td>1670</td>\n",
       "      <td>576066</td>\n",
       "      <td>2129</td>\n",
       "      <td>350</td>\n",
       "      <td>Pindel</td>\n",
       "    </tr>\n",
       "    <tr>\n",
       "      <th>13</th>\n",
       "      <td>popdel</td>\n",
       "      <td>100</td>\n",
       "      <td>1277</td>\n",
       "      <td>348</td>\n",
       "      <td>2522</td>\n",
       "      <td>2523</td>\n",
       "      <td>PopDel</td>\n",
       "    </tr>\n",
       "    <tr>\n",
       "      <th>14</th>\n",
       "      <td>rdxplorer</td>\n",
       "      <td>100</td>\n",
       "      <td>886</td>\n",
       "      <td>17645</td>\n",
       "      <td>2913</td>\n",
       "      <td>175</td>\n",
       "      <td>RDXplorer</td>\n",
       "    </tr>\n",
       "    <tr>\n",
       "      <th>15</th>\n",
       "      <td>smoove</td>\n",
       "      <td>100</td>\n",
       "      <td>2249</td>\n",
       "      <td>891</td>\n",
       "      <td>1550</td>\n",
       "      <td>2664</td>\n",
       "      <td>LUMPY</td>\n",
       "    </tr>\n",
       "  </tbody>\n",
       "</table>\n",
       "</div>"
      ],
      "text/plain": [
       "               tool  threshold   nTP     nFP   nFN    nTN         Tool\n",
       "0         BioGraph*        100  1827    1348  1972   2249    BioGraph*\n",
       "1            Tardis        100  1729     494  2070   2877       Tardis\n",
       "2       breakdancer        100  1883    1659  1916   2483  BreakDancer\n",
       "3            clever        100  2613   11143  1186   1963       CLEVER\n",
       "4             crest        100   610    1546  3189  16480        CREST\n",
       "5             delly        100  2329    4444  1470   1409        DELLY\n",
       "6              gasv        100   597   81888  3202     93         GASV\n",
       "7       genomestrip        100   926     611  2873   1429  GenomeSTRiP\n",
       "8            gridss        100  2379   15964  1420    636       GRIDSS\n",
       "9        indelminer        100   520   78001  3279   1727   indelMINER\n",
       "10  manta_diploidSV        100  2485    1360  1314   4763        Manta\n",
       "11         mistrvar        100   859   46106  2940    445     MiStrVar\n",
       "12           pindel        100  1670  576066  2129    350       Pindel\n",
       "13           popdel        100  1277     348  2522   2523       PopDel\n",
       "14        rdxplorer        100   886   17645  2913    175    RDXplorer\n",
       "15           smoove        100  2249     891  1550   2664        LUMPY"
      ]
     },
     "execution_count": 45,
     "metadata": {},
     "output_type": "execute_result"
    }
   ],
   "source": [
    "df_new"
   ]
  },
  {
   "cell_type": "code",
   "execution_count": 46,
   "metadata": {},
   "outputs": [
    {
     "data": {
      "image/png": "[encoded data removed]",
      "text/plain": [
       "<Figure size 432x288 with 1 Axes>"
      ]
     },
     "metadata": {},
     "output_type": "display_data"
    }
   ],
   "source": [
    "import seaborn as sns; sns.set()\n",
    "import matplotlib.pyplot as plt\n",
    "sns.set_style(\"white\")\n",
    "# sns.despine(top=True, right=True, left=False, bottom=False, offset=None, trim=False)\n",
    "tips = sns.load_dataset(\"tips\")\n",
    "ax = sns.scatterplot(x=\"nTP\", y=\"nFP\", data=df_new,hue='Tool',s=200,palette=color_map1)\n",
    "\n",
    "ax.legend(loc='center left', bbox_to_anchor=(1, .5), ncol=1)\n",
    "sns.set(rc={'figure.figsize':(6,6)})"
   ]
  },
  {
   "cell_type": "code",
   "execution_count": 47,
   "metadata": {
    "scrolled": true
   },
   "outputs": [],
   "source": [
    "# for th in [100]:\n",
    "#     fig1e=sns.set_style(\"white\")\n",
    "#     fig1e=sns.set_context(\"talk\")\n",
    "#     fig1e=sns.scatterplot(data=df_new, x='nTP', y='nFP',hue='Tool',fit_reg=False,aspect=1.5,scatter_kws={\"s\": 300}, palette=color_map1)\n",
    "#     fig1e.set(xlabel='TP', ylabel='FP')\n",
    "#     plt.title(str()+\"bp\")\n",
    "#     #fig1e.set(xscale=\"log\");\n",
    "#     fig1e=sns.despine()\n",
    "# # plt.savefig(\"../Figures/fig1/fig1e.svg\", bbox_inches='tight')\n",
    "# # plt.savefig(\"../Figures/fig1/fig1e.eps\", bbox_inches='tight')\n",
    "# # plt.savefig(\"../Figures/fig1/fig1e\", bbox_inches='tight')\n",
    "# # plt.savefig(\"../Figures/fig1/fig1e.pdf\", bbox_inches='tight')"
   ]
  },
  {
   "cell_type": "markdown",
   "metadata": {},
   "source": [
    "# Figure 1f"
   ]
  },
  {
   "cell_type": "code",
   "execution_count": 48,
   "metadata": {},
   "outputs": [
    {
     "data": {
      "image/png": "[encoded data removed]",
      "text/plain": [
       "<Figure size 432x432 with 1 Axes>"
      ]
     },
     "metadata": {},
     "output_type": "display_data"
    }
   ],
   "source": [
    "import seaborn as sns; sns.set()\n",
    "import matplotlib.pyplot as plt\n",
    "sns.set_style(\"white\")\n",
    "# sns.despine(top=True, right=True, left=False, bottom=False, offset=None, trim=False)\n",
    "tips = sns.load_dataset(\"tips\")\n",
    "ax = sns.scatterplot(x=\"nTN\", y=\"nFP\", data=df_new,hue='Tool',s=200,palette=color_map1)\n",
    "\n",
    "ax.legend(loc='center left', bbox_to_anchor=(1, .5), ncol=1)\n",
    "sns.set(rc={'figure.figsize':(6,6)})"
   ]
  },
  {
   "cell_type": "code",
   "execution_count": 49,
   "metadata": {},
   "outputs": [],
   "source": [
    "# for th in [100]:\n",
    "#     fig1f=sns.set_style(\"white\")\n",
    "#     fig1f=sns.set_context(\"talk\")\n",
    "#     fig1f=sns.lmplot(data=df_sum.loc[(df_sum['threshold'] ==th)], x='nTN', y='nFP', hue='Tool',fit_reg=False,aspect=1.5,palette=color_map1,scatter_kws={'s': 300})\n",
    "#     fig1f.set(xlabel='TN', ylabel='FP')\n",
    "#     plt.title(str(th)+\"bp\")\n",
    "#     #fig1f.set(xscale=\"log\");\n",
    "#     fig1f=sns.despine()\n",
    "# plt.savefig(\"../Figures/fig1/fig1f.svg\", bbox_inches='tight')\n",
    "# plt.savefig(\"../Figures/fig1/fig1f.eps\", bbox_inches='tight')\n",
    "# plt.savefig(\"../Figures/fig1/fig1f\", bbox_inches='tight')\n",
    "# plt.savefig(\"../Figures/fig1/fig1f.pdf\", bbox_inches='tight')"
   ]
  },
  {
   "cell_type": "markdown",
   "metadata": {},
   "source": [
    "# Figure 1g"
   ]
  },
  {
   "cell_type": "code",
   "execution_count": null,
   "metadata": {},
   "outputs": [],
   "source": [
    "# df.head()"
   ]
  },
  {
   "cell_type": "code",
   "execution_count": null,
   "metadata": {},
   "outputs": [],
   "source": [
    "# df_new=df.sort_values(\"length\")"
   ]
  },
  {
   "cell_type": "code",
   "execution_count": null,
   "metadata": {},
   "outputs": [],
   "source": [
    "# df_new"
   ]
  },
  {
   "cell_type": "code",
   "execution_count": null,
   "metadata": {},
   "outputs": [],
   "source": [
    "df.to_csv('../Data/analysis_files/df_fig1.csv',index=False)"
   ]
  },
  {
   "cell_type": "code",
   "execution_count": null,
   "metadata": {},
   "outputs": [],
   "source": [
    "\n",
    "# fig1g=sns.set_style(\"ticks\")\n",
    "# fig1g=sns.set_context(\"poster\",rc={\"font.size\":30,\"axes.titlesize\":30,\"axes.labelsize\":30})\n",
    "# labels=['Pindel','CLEVER','MiStrVar','indelMINER', 'BioGraph*','Manta','GRIDSS','BreakDancer','true deletions','LUMPY','DELLY','CREST','RDXplorer','PopDel','GASV','GenomeSTRiP']\n",
    "# fig_order=['pindel','clever','mistrvar','indelminer', 'BioGraph*','manta_diploidSV','gridss','breakdancer','true deletions','smoove','delly','crest','rdxplorer','popdel','gasv','genomestrip']\n",
    "\n",
    "# # labels    = ['true deletions','indelminer','sniffles','popdel','mistrvar','lumpy','BioGraph*','breakdancer','delly','gridss','clever','rdxplorer','pindel','gasv']\n",
    "# # fig_order =['true deletions','indelminer','sniffles','popdel','mistrvar','smoove','BioGraph*','breakdancer','delly','gridss','clever','rdxplorer','pindel','gasv']\n",
    "# df[\"Tool\"] = df[\"tool\"].map(dict(zip(fig_order, labels)))\n",
    "# test=df.groupby(\"Tool\")[\"length\"].median()\n",
    "# print(test)\n",
    "# ranks = df.groupby(\"Tool\")[\"length\"].median().fillna(0).sort_values()[::-1].index\n",
    "# print(ranks)\n",
    "# pal = []\n",
    "# for tool in fig_order:\n",
    "#     pal.append(color_map[tool])\n",
    "# fig1g = sns.catplot(x=\"length\", y=\"Tool\",kind='boxen',data=df.sort_values(\"length\"),height=20, aspect=.4, palette=pal,order=labels)\n",
    "# #fig1g = sns.catplot(x=\"tool\", y=\"length\",kind='boxen',data=df, aspect=12, palette=pal, order=fig_order)\n",
    "# # fig1g.invert_yaxis()\n",
    "# fig1g.set(xscale=\"log\");\n",
    "# fig1g.set(ylabel='SV-caller')\n",
    "# fig1g.set(xlabel='Deletion length')\n",
    "# # sns.set(rc={'figure.figsize':(1,1)})\n",
    "# fig1g=sns.despine()\n",
    "# plt.savefig(\"../figures/fig1/fig1g.svg\", bbox_inches='tight')\n",
    "# plt.savefig(\"../figures/fig1/fig1g.eps\", bbox_inches='tight')\n",
    "# plt.savefig(\"../figures/fig1/fig1g\", bbox_inches='tight')\n",
    "# plt.savefig(\"../figures/fig1/fig1g.pdf\", bbox_inches='tight')"
   ]
  },
  {
   "cell_type": "code",
   "execution_count": null,
   "metadata": {},
   "outputs": [],
   "source": []
  },
  {
   "cell_type": "code",
   "execution_count": null,
   "metadata": {},
   "outputs": [],
   "source": []
  }
 ],
 "metadata": {
  "kernelspec": {
   "display_name": "Python 3",
   "language": "python",
   "name": "python3"
  },
  "language_info": {
   "codemirror_mode": {
    "name": "ipython",
    "version": 3
   },
   "file_extension": ".py",
   "mimetype": "text/x-python",
   "name": "python",
   "nbconvert_exporter": "python",
   "pygments_lexer": "ipython3",
   "version": "3.5.2"
  }
 },
 "nbformat": 4,
 "nbformat_minor": 2
}
